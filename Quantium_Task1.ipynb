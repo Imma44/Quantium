{
  "nbformat": 4,
  "nbformat_minor": 0,
  "metadata": {
    "colab": {
      "name": "Quantium_Task1.ipynb",
      "provenance": [],
      "collapsed_sections": []
    },
    "kernelspec": {
      "name": "python3",
      "display_name": "Python 3"
    }
  },
  "cells": [
    {
      "cell_type": "markdown",
      "metadata": {
        "id": "DpI7ug2M8K9H"
      },
      "source": [
        "**REQUIREMENTS**\n",
        "*   Examine transaction data – look for inconsistencies, missing data across the data set, outliers, correctly identified category items, numeric data across all tables. If you determine any anomalies make the necessary changes in the dataset and save it. Having clean data will help when it comes to your analysis. \n",
        "\n",
        "*   Examine customer data – check for similar issues in the customer data, look for nulls and when you are happy merge the transaction and customer data together so it’s ready for the analysis ensuring you save your files along the way.\n",
        "\n",
        "*   Data analysis and customer segments – in your analysis make sure you define the metrics – look at total sales, drivers of sales, where the highest sales are coming from etc. Explore the data, create charts and graphs as well as noting any interesting trends and/or insights you find. \n",
        "\n",
        "*   Deep dive into customer segments – define your recommendation from your insights, determine which segments we should be targeting, if packet sizes are relative and form an overall conclusion based on your analysis. \n",
        "\n",
        "*   Save your analysis in the CSV files and your visualisations  \n",
        "\n",
        "\n"
      ]
    },
    {
      "cell_type": "code",
      "metadata": {
        "colab": {
          "base_uri": "https://localhost:8080/"
        },
        "id": "Zk1eXYMpYFQY",
        "outputId": "b48adaec-2a60-4826-fcbd-4ddd1a576d34"
      },
      "source": [
        "from google.colab import drive\n",
        "drive.mount('/content/drive')"
      ],
      "execution_count": null,
      "outputs": [
        {
          "output_type": "stream",
          "text": [
            "Drive already mounted at /content/drive; to attempt to forcibly remount, call drive.mount(\"/content/drive\", force_remount=True).\n"
          ],
          "name": "stdout"
        }
      ]
    },
    {
      "cell_type": "code",
      "metadata": {
        "id": "n3Slqr5-Ya1H"
      },
      "source": [
        "#Importing libraries\n",
        "import pandas as pd\n",
        "import numpy as np\n",
        "import matplotlib.pyplot as plt\n",
        "import seaborn as sns"
      ],
      "execution_count": null,
      "outputs": []
    },
    {
      "cell_type": "code",
      "metadata": {
        "colab": {
          "base_uri": "https://localhost:8080/",
          "height": 204
        },
        "id": "ATa31COjYbx0",
        "outputId": "46c24c48-cec1-445e-a4b9-8dfd7b49293c"
      },
      "source": [
        "#Reading the data\n",
        "transaction_data=pd.read_excel('/content/drive/MyDrive/QVI_transaction_data.xlsx')\n",
        "transaction_data.head()"
      ],
      "execution_count": null,
      "outputs": [
        {
          "output_type": "execute_result",
          "data": {
            "text/html": [
              "<div>\n",
              "<style scoped>\n",
              "    .dataframe tbody tr th:only-of-type {\n",
              "        vertical-align: middle;\n",
              "    }\n",
              "\n",
              "    .dataframe tbody tr th {\n",
              "        vertical-align: top;\n",
              "    }\n",
              "\n",
              "    .dataframe thead th {\n",
              "        text-align: right;\n",
              "    }\n",
              "</style>\n",
              "<table border=\"1\" class=\"dataframe\">\n",
              "  <thead>\n",
              "    <tr style=\"text-align: right;\">\n",
              "      <th></th>\n",
              "      <th>DATE</th>\n",
              "      <th>STORE_NBR</th>\n",
              "      <th>LYLTY_CARD_NBR</th>\n",
              "      <th>TXN_ID</th>\n",
              "      <th>PROD_NBR</th>\n",
              "      <th>PROD_NAME</th>\n",
              "      <th>PROD_QTY</th>\n",
              "      <th>TOT_SALES</th>\n",
              "    </tr>\n",
              "  </thead>\n",
              "  <tbody>\n",
              "    <tr>\n",
              "      <th>0</th>\n",
              "      <td>43390</td>\n",
              "      <td>1</td>\n",
              "      <td>1000</td>\n",
              "      <td>1</td>\n",
              "      <td>5</td>\n",
              "      <td>Natural Chip        Compny SeaSalt175g</td>\n",
              "      <td>2</td>\n",
              "      <td>6.0</td>\n",
              "    </tr>\n",
              "    <tr>\n",
              "      <th>1</th>\n",
              "      <td>43599</td>\n",
              "      <td>1</td>\n",
              "      <td>1307</td>\n",
              "      <td>348</td>\n",
              "      <td>66</td>\n",
              "      <td>CCs Nacho Cheese    175g</td>\n",
              "      <td>3</td>\n",
              "      <td>6.3</td>\n",
              "    </tr>\n",
              "    <tr>\n",
              "      <th>2</th>\n",
              "      <td>43605</td>\n",
              "      <td>1</td>\n",
              "      <td>1343</td>\n",
              "      <td>383</td>\n",
              "      <td>61</td>\n",
              "      <td>Smiths Crinkle Cut  Chips Chicken 170g</td>\n",
              "      <td>2</td>\n",
              "      <td>2.9</td>\n",
              "    </tr>\n",
              "    <tr>\n",
              "      <th>3</th>\n",
              "      <td>43329</td>\n",
              "      <td>2</td>\n",
              "      <td>2373</td>\n",
              "      <td>974</td>\n",
              "      <td>69</td>\n",
              "      <td>Smiths Chip Thinly  S/Cream&amp;Onion 175g</td>\n",
              "      <td>5</td>\n",
              "      <td>15.0</td>\n",
              "    </tr>\n",
              "    <tr>\n",
              "      <th>4</th>\n",
              "      <td>43330</td>\n",
              "      <td>2</td>\n",
              "      <td>2426</td>\n",
              "      <td>1038</td>\n",
              "      <td>108</td>\n",
              "      <td>Kettle Tortilla ChpsHny&amp;Jlpno Chili 150g</td>\n",
              "      <td>3</td>\n",
              "      <td>13.8</td>\n",
              "    </tr>\n",
              "  </tbody>\n",
              "</table>\n",
              "</div>"
            ],
            "text/plain": [
              "    DATE  STORE_NBR  ...  PROD_QTY  TOT_SALES\n",
              "0  43390          1  ...         2        6.0\n",
              "1  43599          1  ...         3        6.3\n",
              "2  43605          1  ...         2        2.9\n",
              "3  43329          2  ...         5       15.0\n",
              "4  43330          2  ...         3       13.8\n",
              "\n",
              "[5 rows x 8 columns]"
            ]
          },
          "metadata": {
            "tags": []
          },
          "execution_count": 3
        }
      ]
    },
    {
      "cell_type": "markdown",
      "metadata": {
        "id": "lrvyDyZuyAbT"
      },
      "source": [
        "## **EXAMINING TRANSACTION DATA**"
      ]
    },
    {
      "cell_type": "code",
      "metadata": {
        "colab": {
          "base_uri": "https://localhost:8080/"
        },
        "id": "yFzGfXIwYe8O",
        "outputId": "71c49f47-7eed-4e82-90e3-e68e9150bd64"
      },
      "source": [
        "transaction_data.info()"
      ],
      "execution_count": null,
      "outputs": [
        {
          "output_type": "stream",
          "text": [
            "<class 'pandas.core.frame.DataFrame'>\n",
            "RangeIndex: 264836 entries, 0 to 264835\n",
            "Data columns (total 8 columns):\n",
            " #   Column          Non-Null Count   Dtype  \n",
            "---  ------          --------------   -----  \n",
            " 0   DATE            264836 non-null  int64  \n",
            " 1   STORE_NBR       264836 non-null  int64  \n",
            " 2   LYLTY_CARD_NBR  264836 non-null  int64  \n",
            " 3   TXN_ID          264836 non-null  int64  \n",
            " 4   PROD_NBR        264836 non-null  int64  \n",
            " 5   PROD_NAME       264836 non-null  object \n",
            " 6   PROD_QTY        264836 non-null  int64  \n",
            " 7   TOT_SALES       264836 non-null  float64\n",
            "dtypes: float64(1), int64(6), object(1)\n",
            "memory usage: 16.2+ MB\n"
          ],
          "name": "stdout"
        }
      ]
    },
    {
      "cell_type": "markdown",
      "metadata": {
        "id": "lGS_Z14CyRil"
      },
      "source": [
        "***DATA WRANGLING***"
      ]
    },
    {
      "cell_type": "code",
      "metadata": {
        "id": "5X_1EHudYs38"
      },
      "source": [
        "#The date column is inconsistent as it is stored in integer format.\n",
        "#We create a function to convert it to date\n",
        "\n",
        "import xlrd\n",
        "import datetime\n",
        "def xldate_to_datetime(xlserialdate):\n",
        "  anchor=datetime.datetime(1900,1,1)\n",
        "  if (xlserialdate < 60):\n",
        "    delta=datetime.timedelta(days=(xlserialdate - 1))\n",
        "  else:\n",
        "    delta=datetime.timedelta(days=(xlserialdate - 2))\n",
        "  converted_date= anchor + delta\n",
        "  return converted_date   \n"
      ],
      "execution_count": null,
      "outputs": []
    },
    {
      "cell_type": "code",
      "metadata": {
        "id": "tbYgBPcxZBRZ"
      },
      "source": [
        "#Apply the date function to the date column\n",
        "transaction_data['DATE']=transaction_data['DATE'].apply(xldate_to_datetime)"
      ],
      "execution_count": null,
      "outputs": []
    },
    {
      "cell_type": "code",
      "metadata": {
        "colab": {
          "base_uri": "https://localhost:8080/"
        },
        "id": "0OT41mr2ZK-C",
        "outputId": "77d5a045-c5cc-40bf-e018-b3fa35b5f62f"
      },
      "source": [
        "transaction_data['DATE'].head()"
      ],
      "execution_count": null,
      "outputs": [
        {
          "output_type": "execute_result",
          "data": {
            "text/plain": [
              "0   2018-10-17\n",
              "1   2019-05-14\n",
              "2   2019-05-20\n",
              "3   2018-08-17\n",
              "4   2018-08-18\n",
              "Name: DATE, dtype: datetime64[ns]"
            ]
          },
          "metadata": {
            "tags": []
          },
          "execution_count": 7
        }
      ]
    },
    {
      "cell_type": "code",
      "metadata": {
        "colab": {
          "base_uri": "https://localhost:8080/",
          "height": 289
        },
        "id": "KtEdVfhzcs26",
        "outputId": "f07db9a0-3de4-4e9f-cbb7-3b872901648e"
      },
      "source": [
        "transaction_data.head()"
      ],
      "execution_count": null,
      "outputs": [
        {
          "output_type": "execute_result",
          "data": {
            "text/html": [
              "<div>\n",
              "<style scoped>\n",
              "    .dataframe tbody tr th:only-of-type {\n",
              "        vertical-align: middle;\n",
              "    }\n",
              "\n",
              "    .dataframe tbody tr th {\n",
              "        vertical-align: top;\n",
              "    }\n",
              "\n",
              "    .dataframe thead th {\n",
              "        text-align: right;\n",
              "    }\n",
              "</style>\n",
              "<table border=\"1\" class=\"dataframe\">\n",
              "  <thead>\n",
              "    <tr style=\"text-align: right;\">\n",
              "      <th></th>\n",
              "      <th>DATE</th>\n",
              "      <th>STORE_NBR</th>\n",
              "      <th>LYLTY_CARD_NBR</th>\n",
              "      <th>TXN_ID</th>\n",
              "      <th>PROD_NBR</th>\n",
              "      <th>PROD_NAME</th>\n",
              "      <th>PROD_QTY</th>\n",
              "      <th>TOT_SALES</th>\n",
              "    </tr>\n",
              "  </thead>\n",
              "  <tbody>\n",
              "    <tr>\n",
              "      <th>0</th>\n",
              "      <td>2018-10-17</td>\n",
              "      <td>1</td>\n",
              "      <td>1000</td>\n",
              "      <td>1</td>\n",
              "      <td>5</td>\n",
              "      <td>Natural Chip        Compny SeaSalt175g</td>\n",
              "      <td>2</td>\n",
              "      <td>6.0</td>\n",
              "    </tr>\n",
              "    <tr>\n",
              "      <th>1</th>\n",
              "      <td>2019-05-14</td>\n",
              "      <td>1</td>\n",
              "      <td>1307</td>\n",
              "      <td>348</td>\n",
              "      <td>66</td>\n",
              "      <td>CCs Nacho Cheese    175g</td>\n",
              "      <td>3</td>\n",
              "      <td>6.3</td>\n",
              "    </tr>\n",
              "    <tr>\n",
              "      <th>2</th>\n",
              "      <td>2019-05-20</td>\n",
              "      <td>1</td>\n",
              "      <td>1343</td>\n",
              "      <td>383</td>\n",
              "      <td>61</td>\n",
              "      <td>Smiths Crinkle Cut  Chips Chicken 170g</td>\n",
              "      <td>2</td>\n",
              "      <td>2.9</td>\n",
              "    </tr>\n",
              "    <tr>\n",
              "      <th>3</th>\n",
              "      <td>2018-08-17</td>\n",
              "      <td>2</td>\n",
              "      <td>2373</td>\n",
              "      <td>974</td>\n",
              "      <td>69</td>\n",
              "      <td>Smiths Chip Thinly  S/Cream&amp;Onion 175g</td>\n",
              "      <td>5</td>\n",
              "      <td>15.0</td>\n",
              "    </tr>\n",
              "    <tr>\n",
              "      <th>4</th>\n",
              "      <td>2018-08-18</td>\n",
              "      <td>2</td>\n",
              "      <td>2426</td>\n",
              "      <td>1038</td>\n",
              "      <td>108</td>\n",
              "      <td>Kettle Tortilla ChpsHny&amp;Jlpno Chili 150g</td>\n",
              "      <td>3</td>\n",
              "      <td>13.8</td>\n",
              "    </tr>\n",
              "  </tbody>\n",
              "</table>\n",
              "</div>"
            ],
            "text/plain": [
              "        DATE  STORE_NBR  ...  PROD_QTY  TOT_SALES\n",
              "0 2018-10-17          1  ...         2        6.0\n",
              "1 2019-05-14          1  ...         3        6.3\n",
              "2 2019-05-20          1  ...         2        2.9\n",
              "3 2018-08-17          2  ...         5       15.0\n",
              "4 2018-08-18          2  ...         3       13.8\n",
              "\n",
              "[5 rows x 8 columns]"
            ]
          },
          "metadata": {
            "tags": []
          },
          "execution_count": 8
        }
      ]
    },
    {
      "cell_type": "code",
      "metadata": {
        "colab": {
          "base_uri": "https://localhost:8080/"
        },
        "id": "_Jx9HYz299-t",
        "outputId": "ac23f38c-2118-480e-f297-edb38a5d3212"
      },
      "source": [
        "#Examining shape of the transaction data\n",
        "transaction_data.shape"
      ],
      "execution_count": null,
      "outputs": [
        {
          "output_type": "execute_result",
          "data": {
            "text/plain": [
              "(264836, 8)"
            ]
          },
          "metadata": {
            "tags": []
          },
          "execution_count": 9
        }
      ]
    },
    {
      "cell_type": "code",
      "metadata": {
        "colab": {
          "base_uri": "https://localhost:8080/"
        },
        "id": "13NBMkNBkZhA",
        "outputId": "c6a1b30d-bc75-4651-8604-507ab492b759"
      },
      "source": [
        "#Examining number of unique date in date entry\n",
        "transaction_data['DATE'].nunique()"
      ],
      "execution_count": null,
      "outputs": [
        {
          "output_type": "execute_result",
          "data": {
            "text/plain": [
              "364"
            ]
          },
          "metadata": {
            "tags": []
          },
          "execution_count": 10
        }
      ]
    },
    {
      "cell_type": "code",
      "metadata": {
        "colab": {
          "base_uri": "https://localhost:8080/"
        },
        "id": "h9Z7rX29kaAH",
        "outputId": "406326c4-8f14-4f79-c667-f59d127ba4f7"
      },
      "source": [
        "#There are 365 days in a year so we check for the specific missing date\n",
        "pd.date_range(start = '2018-07-01',end='2019-06-30').difference(transaction_data['DATE'])"
      ],
      "execution_count": null,
      "outputs": [
        {
          "output_type": "execute_result",
          "data": {
            "text/plain": [
              "DatetimeIndex(['2018-12-25'], dtype='datetime64[ns]', freq=None)"
            ]
          },
          "metadata": {
            "tags": []
          },
          "execution_count": 11
        }
      ]
    },
    {
      "cell_type": "code",
      "metadata": {
        "colab": {
          "base_uri": "https://localhost:8080/"
        },
        "id": "kTXNt3MGcuyU",
        "outputId": "ef089f67-2c1c-4a2f-cb9f-8d4d862d49a1"
      },
      "source": [
        "transaction_data['PROD_NAME'].head()"
      ],
      "execution_count": null,
      "outputs": [
        {
          "output_type": "execute_result",
          "data": {
            "text/plain": [
              "0      Natural Chip        Compny SeaSalt175g\n",
              "1                    CCs Nacho Cheese    175g\n",
              "2      Smiths Crinkle Cut  Chips Chicken 170g\n",
              "3      Smiths Chip Thinly  S/Cream&Onion 175g\n",
              "4    Kettle Tortilla ChpsHny&Jlpno Chili 150g\n",
              "Name: PROD_NAME, dtype: object"
            ]
          },
          "metadata": {
            "tags": []
          },
          "execution_count": 12
        }
      ]
    },
    {
      "cell_type": "code",
      "metadata": {
        "colab": {
          "base_uri": "https://localhost:8080/",
          "height": 306
        },
        "id": "qffze4pXe6y-",
        "outputId": "a33b9171-4ee9-4a0a-f9d3-3cb8b45becdd"
      },
      "source": [
        "#Creating a new column by extracting size of pack from 'PROD_NAME'\n",
        "transaction_data['SIZE_OF_PACK']=transaction_data['PROD_NAME'].str.extract('(\\d+)')\n",
        "transaction_data['SIZE_OF_PACK'] = pd.to_numeric(transaction_data['SIZE_OF_PACK'])\n",
        "transaction_data.head()"
      ],
      "execution_count": null,
      "outputs": [
        {
          "output_type": "execute_result",
          "data": {
            "text/html": [
              "<div>\n",
              "<style scoped>\n",
              "    .dataframe tbody tr th:only-of-type {\n",
              "        vertical-align: middle;\n",
              "    }\n",
              "\n",
              "    .dataframe tbody tr th {\n",
              "        vertical-align: top;\n",
              "    }\n",
              "\n",
              "    .dataframe thead th {\n",
              "        text-align: right;\n",
              "    }\n",
              "</style>\n",
              "<table border=\"1\" class=\"dataframe\">\n",
              "  <thead>\n",
              "    <tr style=\"text-align: right;\">\n",
              "      <th></th>\n",
              "      <th>DATE</th>\n",
              "      <th>STORE_NBR</th>\n",
              "      <th>LYLTY_CARD_NBR</th>\n",
              "      <th>TXN_ID</th>\n",
              "      <th>PROD_NBR</th>\n",
              "      <th>PROD_NAME</th>\n",
              "      <th>PROD_QTY</th>\n",
              "      <th>TOT_SALES</th>\n",
              "      <th>SIZE_OF_PACK</th>\n",
              "    </tr>\n",
              "  </thead>\n",
              "  <tbody>\n",
              "    <tr>\n",
              "      <th>0</th>\n",
              "      <td>2018-10-17</td>\n",
              "      <td>1</td>\n",
              "      <td>1000</td>\n",
              "      <td>1</td>\n",
              "      <td>5</td>\n",
              "      <td>Natural Chip        Compny SeaSalt175g</td>\n",
              "      <td>2</td>\n",
              "      <td>6.0</td>\n",
              "      <td>175</td>\n",
              "    </tr>\n",
              "    <tr>\n",
              "      <th>1</th>\n",
              "      <td>2019-05-14</td>\n",
              "      <td>1</td>\n",
              "      <td>1307</td>\n",
              "      <td>348</td>\n",
              "      <td>66</td>\n",
              "      <td>CCs Nacho Cheese    175g</td>\n",
              "      <td>3</td>\n",
              "      <td>6.3</td>\n",
              "      <td>175</td>\n",
              "    </tr>\n",
              "    <tr>\n",
              "      <th>2</th>\n",
              "      <td>2019-05-20</td>\n",
              "      <td>1</td>\n",
              "      <td>1343</td>\n",
              "      <td>383</td>\n",
              "      <td>61</td>\n",
              "      <td>Smiths Crinkle Cut  Chips Chicken 170g</td>\n",
              "      <td>2</td>\n",
              "      <td>2.9</td>\n",
              "      <td>170</td>\n",
              "    </tr>\n",
              "    <tr>\n",
              "      <th>3</th>\n",
              "      <td>2018-08-17</td>\n",
              "      <td>2</td>\n",
              "      <td>2373</td>\n",
              "      <td>974</td>\n",
              "      <td>69</td>\n",
              "      <td>Smiths Chip Thinly  S/Cream&amp;Onion 175g</td>\n",
              "      <td>5</td>\n",
              "      <td>15.0</td>\n",
              "      <td>175</td>\n",
              "    </tr>\n",
              "    <tr>\n",
              "      <th>4</th>\n",
              "      <td>2018-08-18</td>\n",
              "      <td>2</td>\n",
              "      <td>2426</td>\n",
              "      <td>1038</td>\n",
              "      <td>108</td>\n",
              "      <td>Kettle Tortilla ChpsHny&amp;Jlpno Chili 150g</td>\n",
              "      <td>3</td>\n",
              "      <td>13.8</td>\n",
              "      <td>150</td>\n",
              "    </tr>\n",
              "  </tbody>\n",
              "</table>\n",
              "</div>"
            ],
            "text/plain": [
              "        DATE  STORE_NBR  LYLTY_CARD_NBR  ...  PROD_QTY  TOT_SALES SIZE_OF_PACK\n",
              "0 2018-10-17          1            1000  ...         2        6.0          175\n",
              "1 2019-05-14          1            1307  ...         3        6.3          175\n",
              "2 2019-05-20          1            1343  ...         2        2.9          170\n",
              "3 2018-08-17          2            2373  ...         5       15.0          175\n",
              "4 2018-08-18          2            2426  ...         3       13.8          150\n",
              "\n",
              "[5 rows x 9 columns]"
            ]
          },
          "metadata": {
            "tags": []
          },
          "execution_count": 13
        }
      ]
    },
    {
      "cell_type": "code",
      "metadata": {
        "id": "yyARaaDCgxWj"
      },
      "source": [
        "#Creating a function that removes metadata as well as size of pack from 'PROD_NAME'\n",
        "import re\n",
        "\n",
        "def clean_txt(txt):\n",
        "  txt=re.sub('[&/]','',txt)\n",
        "  txt=re.sub('\\d\\w*','',txt)\n",
        "  return txt\n",
        "\n",
        "transaction_data['PROD_NAME']=transaction_data['PROD_NAME'].apply(clean_txt)  "
      ],
      "execution_count": null,
      "outputs": []
    },
    {
      "cell_type": "code",
      "metadata": {
        "colab": {
          "base_uri": "https://localhost:8080/"
        },
        "id": "VzQRokxFjcY0",
        "outputId": "440ecaab-4a13-4af1-84d7-fcb057cfb8b8"
      },
      "source": [
        "transaction_data['PROD_NAME'].head()"
      ],
      "execution_count": null,
      "outputs": [
        {
          "output_type": "execute_result",
          "data": {
            "text/plain": [
              "0     Natural Chip        Compny SeaSalt\n",
              "1                   CCs Nacho Cheese    \n",
              "2     Smiths Crinkle Cut  Chips Chicken \n",
              "3       Smiths Chip Thinly  SCreamOnion \n",
              "4    Kettle Tortilla ChpsHnyJlpno Chili \n",
              "Name: PROD_NAME, dtype: object"
            ]
          },
          "metadata": {
            "tags": []
          },
          "execution_count": 15
        }
      ]
    },
    {
      "cell_type": "code",
      "metadata": {
        "colab": {
          "base_uri": "https://localhost:8080/",
          "height": 289
        },
        "id": "YsHa2Z1Rs8MH",
        "outputId": "abd36762-d407-4d19-ff71-092a85606883"
      },
      "source": [
        "transaction_data.head()"
      ],
      "execution_count": null,
      "outputs": [
        {
          "output_type": "execute_result",
          "data": {
            "text/html": [
              "<div>\n",
              "<style scoped>\n",
              "    .dataframe tbody tr th:only-of-type {\n",
              "        vertical-align: middle;\n",
              "    }\n",
              "\n",
              "    .dataframe tbody tr th {\n",
              "        vertical-align: top;\n",
              "    }\n",
              "\n",
              "    .dataframe thead th {\n",
              "        text-align: right;\n",
              "    }\n",
              "</style>\n",
              "<table border=\"1\" class=\"dataframe\">\n",
              "  <thead>\n",
              "    <tr style=\"text-align: right;\">\n",
              "      <th></th>\n",
              "      <th>DATE</th>\n",
              "      <th>STORE_NBR</th>\n",
              "      <th>LYLTY_CARD_NBR</th>\n",
              "      <th>TXN_ID</th>\n",
              "      <th>PROD_NBR</th>\n",
              "      <th>PROD_NAME</th>\n",
              "      <th>PROD_QTY</th>\n",
              "      <th>TOT_SALES</th>\n",
              "      <th>SIZE_OF_PACK</th>\n",
              "    </tr>\n",
              "  </thead>\n",
              "  <tbody>\n",
              "    <tr>\n",
              "      <th>0</th>\n",
              "      <td>2018-10-17</td>\n",
              "      <td>1</td>\n",
              "      <td>1000</td>\n",
              "      <td>1</td>\n",
              "      <td>5</td>\n",
              "      <td>Natural Chip        Compny SeaSalt</td>\n",
              "      <td>2</td>\n",
              "      <td>6.0</td>\n",
              "      <td>175</td>\n",
              "    </tr>\n",
              "    <tr>\n",
              "      <th>1</th>\n",
              "      <td>2019-05-14</td>\n",
              "      <td>1</td>\n",
              "      <td>1307</td>\n",
              "      <td>348</td>\n",
              "      <td>66</td>\n",
              "      <td>CCs Nacho Cheese</td>\n",
              "      <td>3</td>\n",
              "      <td>6.3</td>\n",
              "      <td>175</td>\n",
              "    </tr>\n",
              "    <tr>\n",
              "      <th>2</th>\n",
              "      <td>2019-05-20</td>\n",
              "      <td>1</td>\n",
              "      <td>1343</td>\n",
              "      <td>383</td>\n",
              "      <td>61</td>\n",
              "      <td>Smiths Crinkle Cut  Chips Chicken</td>\n",
              "      <td>2</td>\n",
              "      <td>2.9</td>\n",
              "      <td>170</td>\n",
              "    </tr>\n",
              "    <tr>\n",
              "      <th>3</th>\n",
              "      <td>2018-08-17</td>\n",
              "      <td>2</td>\n",
              "      <td>2373</td>\n",
              "      <td>974</td>\n",
              "      <td>69</td>\n",
              "      <td>Smiths Chip Thinly  SCreamOnion</td>\n",
              "      <td>5</td>\n",
              "      <td>15.0</td>\n",
              "      <td>175</td>\n",
              "    </tr>\n",
              "    <tr>\n",
              "      <th>4</th>\n",
              "      <td>2018-08-18</td>\n",
              "      <td>2</td>\n",
              "      <td>2426</td>\n",
              "      <td>1038</td>\n",
              "      <td>108</td>\n",
              "      <td>Kettle Tortilla ChpsHnyJlpno Chili</td>\n",
              "      <td>3</td>\n",
              "      <td>13.8</td>\n",
              "      <td>150</td>\n",
              "    </tr>\n",
              "  </tbody>\n",
              "</table>\n",
              "</div>"
            ],
            "text/plain": [
              "        DATE  STORE_NBR  LYLTY_CARD_NBR  ...  PROD_QTY  TOT_SALES SIZE_OF_PACK\n",
              "0 2018-10-17          1            1000  ...         2        6.0          175\n",
              "1 2019-05-14          1            1307  ...         3        6.3          175\n",
              "2 2019-05-20          1            1343  ...         2        2.9          170\n",
              "3 2018-08-17          2            2373  ...         5       15.0          175\n",
              "4 2018-08-18          2            2426  ...         3       13.8          150\n",
              "\n",
              "[5 rows x 9 columns]"
            ]
          },
          "metadata": {
            "tags": []
          },
          "execution_count": 16
        }
      ]
    },
    {
      "cell_type": "code",
      "metadata": {
        "id": "WuZPpBWktFmQ"
      },
      "source": [
        "#Dropping 'Salsa' rows in 'PROD_NAME'\n",
        "transaction_data['PROD_NAME']=transaction_data['PROD_NAME'].apply(lambda x:x.lower())\n",
        "transaction_data=transaction_data[~transaction_data['PROD_NAME'].str.contains('salsa')]\n",
        "transaction_data['PROD_NAME']=transaction_data['PROD_NAME'].apply(lambda x:x.title())\n"
      ],
      "execution_count": null,
      "outputs": []
    },
    {
      "cell_type": "code",
      "metadata": {
        "colab": {
          "base_uri": "https://localhost:8080/"
        },
        "id": "KjjdfxcIf-Wv",
        "outputId": "9a2defca-3fb3-44bc-a5ee-69113fa4aae2"
      },
      "source": [
        "#Checking for outliers in 'PROD_QTY'\n",
        "transaction_data['PROD_QTY'].value_counts()"
      ],
      "execution_count": null,
      "outputs": [
        {
          "output_type": "execute_result",
          "data": {
            "text/plain": [
              "2      220070\n",
              "1       25476\n",
              "5         415\n",
              "3         408\n",
              "4         371\n",
              "200         2\n",
              "Name: PROD_QTY, dtype: int64"
            ]
          },
          "metadata": {
            "tags": []
          },
          "execution_count": 18
        }
      ]
    },
    {
      "cell_type": "code",
      "metadata": {
        "colab": {
          "base_uri": "https://localhost:8080/",
          "height": 145
        },
        "id": "eh_uHOPegglx",
        "outputId": "af2fdcca-6f86-42a0-ef78-0bb5d17a6392"
      },
      "source": [
        "#Examining the 200 product quantity bought\n",
        "transaction_data.loc[transaction_data['PROD_QTY'] == 200,: ]"
      ],
      "execution_count": null,
      "outputs": [
        {
          "output_type": "execute_result",
          "data": {
            "text/html": [
              "<div>\n",
              "<style scoped>\n",
              "    .dataframe tbody tr th:only-of-type {\n",
              "        vertical-align: middle;\n",
              "    }\n",
              "\n",
              "    .dataframe tbody tr th {\n",
              "        vertical-align: top;\n",
              "    }\n",
              "\n",
              "    .dataframe thead th {\n",
              "        text-align: right;\n",
              "    }\n",
              "</style>\n",
              "<table border=\"1\" class=\"dataframe\">\n",
              "  <thead>\n",
              "    <tr style=\"text-align: right;\">\n",
              "      <th></th>\n",
              "      <th>DATE</th>\n",
              "      <th>STORE_NBR</th>\n",
              "      <th>LYLTY_CARD_NBR</th>\n",
              "      <th>TXN_ID</th>\n",
              "      <th>PROD_NBR</th>\n",
              "      <th>PROD_NAME</th>\n",
              "      <th>PROD_QTY</th>\n",
              "      <th>TOT_SALES</th>\n",
              "      <th>SIZE_OF_PACK</th>\n",
              "    </tr>\n",
              "  </thead>\n",
              "  <tbody>\n",
              "    <tr>\n",
              "      <th>69762</th>\n",
              "      <td>2018-08-19</td>\n",
              "      <td>226</td>\n",
              "      <td>226000</td>\n",
              "      <td>226201</td>\n",
              "      <td>4</td>\n",
              "      <td>Dorito Corn Chp     Supreme</td>\n",
              "      <td>200</td>\n",
              "      <td>650.0</td>\n",
              "      <td>380</td>\n",
              "    </tr>\n",
              "    <tr>\n",
              "      <th>69763</th>\n",
              "      <td>2019-05-20</td>\n",
              "      <td>226</td>\n",
              "      <td>226000</td>\n",
              "      <td>226210</td>\n",
              "      <td>4</td>\n",
              "      <td>Dorito Corn Chp     Supreme</td>\n",
              "      <td>200</td>\n",
              "      <td>650.0</td>\n",
              "      <td>380</td>\n",
              "    </tr>\n",
              "  </tbody>\n",
              "</table>\n",
              "</div>"
            ],
            "text/plain": [
              "            DATE  STORE_NBR  LYLTY_CARD_NBR  ...  PROD_QTY  TOT_SALES SIZE_OF_PACK\n",
              "69762 2018-08-19        226          226000  ...       200      650.0          380\n",
              "69763 2019-05-20        226          226000  ...       200      650.0          380\n",
              "\n",
              "[2 rows x 9 columns]"
            ]
          },
          "metadata": {
            "tags": []
          },
          "execution_count": 19
        }
      ]
    },
    {
      "cell_type": "code",
      "metadata": {
        "colab": {
          "base_uri": "https://localhost:8080/",
          "height": 145
        },
        "id": "Pi4paNEkhvqN",
        "outputId": "ed756a4c-adb9-4b75-f2b4-b9d4270e3e63"
      },
      "source": [
        "#Examining the 200 product quantity bought by 'LYLTY_CARD_NBR'\n",
        "transaction_data.loc[transaction_data['LYLTY_CARD_NBR'] == 226000, :]"
      ],
      "execution_count": null,
      "outputs": [
        {
          "output_type": "execute_result",
          "data": {
            "text/html": [
              "<div>\n",
              "<style scoped>\n",
              "    .dataframe tbody tr th:only-of-type {\n",
              "        vertical-align: middle;\n",
              "    }\n",
              "\n",
              "    .dataframe tbody tr th {\n",
              "        vertical-align: top;\n",
              "    }\n",
              "\n",
              "    .dataframe thead th {\n",
              "        text-align: right;\n",
              "    }\n",
              "</style>\n",
              "<table border=\"1\" class=\"dataframe\">\n",
              "  <thead>\n",
              "    <tr style=\"text-align: right;\">\n",
              "      <th></th>\n",
              "      <th>DATE</th>\n",
              "      <th>STORE_NBR</th>\n",
              "      <th>LYLTY_CARD_NBR</th>\n",
              "      <th>TXN_ID</th>\n",
              "      <th>PROD_NBR</th>\n",
              "      <th>PROD_NAME</th>\n",
              "      <th>PROD_QTY</th>\n",
              "      <th>TOT_SALES</th>\n",
              "      <th>SIZE_OF_PACK</th>\n",
              "    </tr>\n",
              "  </thead>\n",
              "  <tbody>\n",
              "    <tr>\n",
              "      <th>69762</th>\n",
              "      <td>2018-08-19</td>\n",
              "      <td>226</td>\n",
              "      <td>226000</td>\n",
              "      <td>226201</td>\n",
              "      <td>4</td>\n",
              "      <td>Dorito Corn Chp     Supreme</td>\n",
              "      <td>200</td>\n",
              "      <td>650.0</td>\n",
              "      <td>380</td>\n",
              "    </tr>\n",
              "    <tr>\n",
              "      <th>69763</th>\n",
              "      <td>2019-05-20</td>\n",
              "      <td>226</td>\n",
              "      <td>226000</td>\n",
              "      <td>226210</td>\n",
              "      <td>4</td>\n",
              "      <td>Dorito Corn Chp     Supreme</td>\n",
              "      <td>200</td>\n",
              "      <td>650.0</td>\n",
              "      <td>380</td>\n",
              "    </tr>\n",
              "  </tbody>\n",
              "</table>\n",
              "</div>"
            ],
            "text/plain": [
              "            DATE  STORE_NBR  LYLTY_CARD_NBR  ...  PROD_QTY  TOT_SALES SIZE_OF_PACK\n",
              "69762 2018-08-19        226          226000  ...       200      650.0          380\n",
              "69763 2019-05-20        226          226000  ...       200      650.0          380\n",
              "\n",
              "[2 rows x 9 columns]"
            ]
          },
          "metadata": {
            "tags": []
          },
          "execution_count": 20
        }
      ]
    },
    {
      "cell_type": "code",
      "metadata": {
        "id": "LaCEtWoEiCDE"
      },
      "source": [
        "#Since the customer has made large purchases twice in a span of ten months it is safe to conclude he/she is not a retail customer.It is likely they bought it for commercial purposes so we drop the entry from the dataset.\n",
        "transaction_data.drop(transaction_data.index[transaction_data['LYLTY_CARD_NBR'] == 226000],inplace=True)"
      ],
      "execution_count": null,
      "outputs": []
    },
    {
      "cell_type": "code",
      "metadata": {
        "colab": {
          "base_uri": "https://localhost:8080/",
          "height": 49
        },
        "id": "qGV8rMp6jfnl",
        "outputId": "ed165bbd-ecb0-4483-bd23-a1143cb07c45"
      },
      "source": [
        "#Checking to see if the entry has been dropped as is is invalid in our analysis\n",
        "transaction_data.loc[transaction_data['LYLTY_CARD_NBR'] == 226000]"
      ],
      "execution_count": null,
      "outputs": [
        {
          "output_type": "execute_result",
          "data": {
            "text/html": [
              "<div>\n",
              "<style scoped>\n",
              "    .dataframe tbody tr th:only-of-type {\n",
              "        vertical-align: middle;\n",
              "    }\n",
              "\n",
              "    .dataframe tbody tr th {\n",
              "        vertical-align: top;\n",
              "    }\n",
              "\n",
              "    .dataframe thead th {\n",
              "        text-align: right;\n",
              "    }\n",
              "</style>\n",
              "<table border=\"1\" class=\"dataframe\">\n",
              "  <thead>\n",
              "    <tr style=\"text-align: right;\">\n",
              "      <th></th>\n",
              "      <th>DATE</th>\n",
              "      <th>STORE_NBR</th>\n",
              "      <th>LYLTY_CARD_NBR</th>\n",
              "      <th>TXN_ID</th>\n",
              "      <th>PROD_NBR</th>\n",
              "      <th>PROD_NAME</th>\n",
              "      <th>PROD_QTY</th>\n",
              "      <th>TOT_SALES</th>\n",
              "      <th>SIZE_OF_PACK</th>\n",
              "    </tr>\n",
              "  </thead>\n",
              "  <tbody>\n",
              "  </tbody>\n",
              "</table>\n",
              "</div>"
            ],
            "text/plain": [
              "Empty DataFrame\n",
              "Columns: [DATE, STORE_NBR, LYLTY_CARD_NBR, TXN_ID, PROD_NBR, PROD_NAME, PROD_QTY, TOT_SALES, SIZE_OF_PACK]\n",
              "Index: []"
            ]
          },
          "metadata": {
            "tags": []
          },
          "execution_count": 22
        }
      ]
    },
    {
      "cell_type": "code",
      "metadata": {
        "colab": {
          "base_uri": "https://localhost:8080/",
          "height": 357
        },
        "id": "NAkZxGLesJjK",
        "outputId": "5a587c68-7412-430e-fec6-513dd9a9feb9"
      },
      "source": [
        "#Extracting and creating a brand name from 'PROD_NAME'\n",
        "name=transaction_data['PROD_NAME'].str.partition()\n",
        "transaction_data['BRAND'] = name[0]\n",
        "transaction_data.head()"
      ],
      "execution_count": null,
      "outputs": [
        {
          "output_type": "execute_result",
          "data": {
            "text/html": [
              "<div>\n",
              "<style scoped>\n",
              "    .dataframe tbody tr th:only-of-type {\n",
              "        vertical-align: middle;\n",
              "    }\n",
              "\n",
              "    .dataframe tbody tr th {\n",
              "        vertical-align: top;\n",
              "    }\n",
              "\n",
              "    .dataframe thead th {\n",
              "        text-align: right;\n",
              "    }\n",
              "</style>\n",
              "<table border=\"1\" class=\"dataframe\">\n",
              "  <thead>\n",
              "    <tr style=\"text-align: right;\">\n",
              "      <th></th>\n",
              "      <th>DATE</th>\n",
              "      <th>STORE_NBR</th>\n",
              "      <th>LYLTY_CARD_NBR</th>\n",
              "      <th>TXN_ID</th>\n",
              "      <th>PROD_NBR</th>\n",
              "      <th>PROD_NAME</th>\n",
              "      <th>PROD_QTY</th>\n",
              "      <th>TOT_SALES</th>\n",
              "      <th>SIZE_OF_PACK</th>\n",
              "      <th>BRAND</th>\n",
              "    </tr>\n",
              "  </thead>\n",
              "  <tbody>\n",
              "    <tr>\n",
              "      <th>0</th>\n",
              "      <td>2018-10-17</td>\n",
              "      <td>1</td>\n",
              "      <td>1000</td>\n",
              "      <td>1</td>\n",
              "      <td>5</td>\n",
              "      <td>Natural Chip        Compny Seasalt</td>\n",
              "      <td>2</td>\n",
              "      <td>6.0</td>\n",
              "      <td>175</td>\n",
              "      <td>Natural</td>\n",
              "    </tr>\n",
              "    <tr>\n",
              "      <th>1</th>\n",
              "      <td>2019-05-14</td>\n",
              "      <td>1</td>\n",
              "      <td>1307</td>\n",
              "      <td>348</td>\n",
              "      <td>66</td>\n",
              "      <td>Ccs Nacho Cheese</td>\n",
              "      <td>3</td>\n",
              "      <td>6.3</td>\n",
              "      <td>175</td>\n",
              "      <td>Ccs</td>\n",
              "    </tr>\n",
              "    <tr>\n",
              "      <th>2</th>\n",
              "      <td>2019-05-20</td>\n",
              "      <td>1</td>\n",
              "      <td>1343</td>\n",
              "      <td>383</td>\n",
              "      <td>61</td>\n",
              "      <td>Smiths Crinkle Cut  Chips Chicken</td>\n",
              "      <td>2</td>\n",
              "      <td>2.9</td>\n",
              "      <td>170</td>\n",
              "      <td>Smiths</td>\n",
              "    </tr>\n",
              "    <tr>\n",
              "      <th>3</th>\n",
              "      <td>2018-08-17</td>\n",
              "      <td>2</td>\n",
              "      <td>2373</td>\n",
              "      <td>974</td>\n",
              "      <td>69</td>\n",
              "      <td>Smiths Chip Thinly  Screamonion</td>\n",
              "      <td>5</td>\n",
              "      <td>15.0</td>\n",
              "      <td>175</td>\n",
              "      <td>Smiths</td>\n",
              "    </tr>\n",
              "    <tr>\n",
              "      <th>4</th>\n",
              "      <td>2018-08-18</td>\n",
              "      <td>2</td>\n",
              "      <td>2426</td>\n",
              "      <td>1038</td>\n",
              "      <td>108</td>\n",
              "      <td>Kettle Tortilla Chpshnyjlpno Chili</td>\n",
              "      <td>3</td>\n",
              "      <td>13.8</td>\n",
              "      <td>150</td>\n",
              "      <td>Kettle</td>\n",
              "    </tr>\n",
              "  </tbody>\n",
              "</table>\n",
              "</div>"
            ],
            "text/plain": [
              "        DATE  STORE_NBR  LYLTY_CARD_NBR  ...  TOT_SALES  SIZE_OF_PACK    BRAND\n",
              "0 2018-10-17          1            1000  ...        6.0           175  Natural\n",
              "1 2019-05-14          1            1307  ...        6.3           175      Ccs\n",
              "2 2019-05-20          1            1343  ...        2.9           170   Smiths\n",
              "3 2018-08-17          2            2373  ...       15.0           175   Smiths\n",
              "4 2018-08-18          2            2426  ...       13.8           150   Kettle\n",
              "\n",
              "[5 rows x 10 columns]"
            ]
          },
          "metadata": {
            "tags": []
          },
          "execution_count": 23
        }
      ]
    },
    {
      "cell_type": "code",
      "metadata": {
        "colab": {
          "base_uri": "https://localhost:8080/"
        },
        "id": "WlTecwzMsyrw",
        "outputId": "79f1e565-9001-4cf8-ff84-32a7e7899fcb"
      },
      "source": [
        "#Identifying unique brand names\n",
        "transaction_data['BRAND'].unique()"
      ],
      "execution_count": null,
      "outputs": [
        {
          "output_type": "execute_result",
          "data": {
            "text/plain": [
              "array(['Natural', 'Ccs', 'Smiths', 'Kettle', 'Grain', 'Doritos',\n",
              "       'Twisties', 'Ww', 'Thins', 'Burger', 'Ncc', 'Cheezels', 'Infzns',\n",
              "       'Red', 'Pringles', 'Dorito', 'Infuzions', 'Smith', 'Grnwves',\n",
              "       'Tyrrells', 'Cobs', 'French', 'Rrd', 'Tostitos', 'Cheetos',\n",
              "       'Woolworths', 'Snbts', 'Sunbites'], dtype=object)"
            ]
          },
          "metadata": {
            "tags": []
          },
          "execution_count": 24
        }
      ]
    },
    {
      "cell_type": "code",
      "metadata": {
        "colab": {
          "base_uri": "https://localhost:8080/"
        },
        "id": "8X6jdhC6s7bA",
        "outputId": "e6f383e7-6e17-49b1-e8a0-dda2e42eb061"
      },
      "source": [
        "#Some of the brand names are inconsistent in how they are named like 'Woolworths'and 'Ww'\n",
        "#We rename them into one name for pupose of consistency in the data\n",
        "transaction_data['BRAND'].replace('Natural','Ncc',inplace=True)\n",
        "transaction_data['BRAND'].replace('Smith','Smiths',inplace=True)\n",
        "transaction_data['BRAND'].replace('Ww','Woolworths',inplace=True)\n",
        "transaction_data['BRAND'].replace('Infzns','Infuzions',inplace=True)\n",
        "transaction_data['BRAND'].replace('Snbts','Sunbites',inplace=True)\n",
        "transaction_data['BRAND'].replace(['Grain','Grnwves'],'Grainwaves',inplace=True)\n",
        "transaction_data['BRAND'].replace(['Rrd','Red'],'Red Rock Deli',inplace=True)\n",
        "transaction_data['BRAND'].replace('Dorito','Doritos',inplace=True)\n",
        "\n",
        "transaction_data['BRAND'].unique()"
      ],
      "execution_count": null,
      "outputs": [
        {
          "output_type": "execute_result",
          "data": {
            "text/plain": [
              "array(['Ncc', 'Ccs', 'Smiths', 'Kettle', 'Grainwaves', 'Doritos',\n",
              "       'Twisties', 'Woolworths', 'Thins', 'Burger', 'Cheezels',\n",
              "       'Infuzions', 'Red Rock Deli', 'Pringles', 'Tyrrells', 'Cobs',\n",
              "       'French', 'Tostitos', 'Cheetos', 'Sunbites'], dtype=object)"
            ]
          },
          "metadata": {
            "tags": []
          },
          "execution_count": 25
        }
      ]
    },
    {
      "cell_type": "code",
      "metadata": {
        "colab": {
          "base_uri": "https://localhost:8080/"
        },
        "id": "UA7qNzmcwBHs",
        "outputId": "d9990af7-f874-4a52-8ee1-8d6d9f70074d"
      },
      "source": [
        "transaction_data.groupby('BRAND').TOT_SALES.sum().sort_values(ascending=False)\n",
        "\n",
        "#Kettle makes the highest sales from chips while Burger makes the lowest"
      ],
      "execution_count": null,
      "outputs": [
        {
          "output_type": "execute_result",
          "data": {
            "text/plain": [
              "BRAND\n",
              "Kettle           390239.8\n",
              "Doritos          226329.9\n",
              "Smiths           217492.0\n",
              "Pringles         177655.5\n",
              "Infuzions         99047.6\n",
              "Thins             88852.5\n",
              "Red Rock Deli     87607.5\n",
              "Twisties          81522.1\n",
              "Tostitos          79789.6\n",
              "Cobs              70569.8\n",
              "Tyrrells          51647.4\n",
              "Grainwaves        51617.2\n",
              "Ncc               42318.0\n",
              "Woolworths        41059.1\n",
              "Cheezels          40029.9\n",
              "Ccs               18078.9\n",
              "Cheetos           16884.5\n",
              "Sunbites           9676.4\n",
              "French             7929.0\n",
              "Burger             6831.0\n",
              "Name: TOT_SALES, dtype: float64"
            ]
          },
          "metadata": {
            "tags": []
          },
          "execution_count": 26
        }
      ]
    },
    {
      "cell_type": "code",
      "metadata": {
        "colab": {
          "base_uri": "https://localhost:8080/"
        },
        "id": "G-trVaxjxAfR",
        "outputId": "456ebc5c-265f-47fb-a710-48fcdd598e70"
      },
      "source": [
        "transaction_data.groupby('BRAND').SIZE_OF_PACK.max().sort_values(ascending=False)\n",
        "\n",
        "#We can see that Smith and Doritos sell the largest pack sizes of chips while Sunbites sells the smallest size of chips"
      ],
      "execution_count": null,
      "outputs": [
        {
          "output_type": "execute_result",
          "data": {
            "text/plain": [
              "BRAND\n",
              "Smiths           380\n",
              "Doritos          380\n",
              "Cheezels         330\n",
              "Twisties         270\n",
              "Burger           220\n",
              "Grainwaves       210\n",
              "Woolworths       200\n",
              "Cheetos          190\n",
              "Ncc              175\n",
              "French           175\n",
              "Thins            175\n",
              "Tostitos         175\n",
              "Ccs              175\n",
              "Kettle           175\n",
              "Red Rock Deli    165\n",
              "Tyrrells         165\n",
              "Pringles         134\n",
              "Infuzions        110\n",
              "Cobs             110\n",
              "Sunbites          90\n",
              "Name: SIZE_OF_PACK, dtype: int64"
            ]
          },
          "metadata": {
            "tags": []
          },
          "execution_count": 27
        }
      ]
    },
    {
      "cell_type": "code",
      "metadata": {
        "colab": {
          "base_uri": "https://localhost:8080/",
          "height": 235
        },
        "id": "SizB3hK3nJN5",
        "outputId": "fa1aca9e-ec6f-491f-94a7-48388a2461d7"
      },
      "source": [
        "#Creating a pivot table of total sales and date\n",
        "sales_by_date=pd.pivot_table(transaction_data,values='TOT_SALES',index='DATE',aggfunc='sum')\n",
        "sales_by_date.head()"
      ],
      "execution_count": null,
      "outputs": [
        {
          "output_type": "execute_result",
          "data": {
            "text/html": [
              "<div>\n",
              "<style scoped>\n",
              "    .dataframe tbody tr th:only-of-type {\n",
              "        vertical-align: middle;\n",
              "    }\n",
              "\n",
              "    .dataframe tbody tr th {\n",
              "        vertical-align: top;\n",
              "    }\n",
              "\n",
              "    .dataframe thead th {\n",
              "        text-align: right;\n",
              "    }\n",
              "</style>\n",
              "<table border=\"1\" class=\"dataframe\">\n",
              "  <thead>\n",
              "    <tr style=\"text-align: right;\">\n",
              "      <th></th>\n",
              "      <th>TOT_SALES</th>\n",
              "    </tr>\n",
              "    <tr>\n",
              "      <th>DATE</th>\n",
              "      <th></th>\n",
              "    </tr>\n",
              "  </thead>\n",
              "  <tbody>\n",
              "    <tr>\n",
              "      <th>2018-07-01</th>\n",
              "      <td>4920.1</td>\n",
              "    </tr>\n",
              "    <tr>\n",
              "      <th>2018-07-02</th>\n",
              "      <td>4877.0</td>\n",
              "    </tr>\n",
              "    <tr>\n",
              "      <th>2018-07-03</th>\n",
              "      <td>4954.7</td>\n",
              "    </tr>\n",
              "    <tr>\n",
              "      <th>2018-07-04</th>\n",
              "      <td>4968.1</td>\n",
              "    </tr>\n",
              "    <tr>\n",
              "      <th>2018-07-05</th>\n",
              "      <td>4682.0</td>\n",
              "    </tr>\n",
              "  </tbody>\n",
              "</table>\n",
              "</div>"
            ],
            "text/plain": [
              "            TOT_SALES\n",
              "DATE                 \n",
              "2018-07-01     4920.1\n",
              "2018-07-02     4877.0\n",
              "2018-07-03     4954.7\n",
              "2018-07-04     4968.1\n",
              "2018-07-05     4682.0"
            ]
          },
          "metadata": {
            "tags": []
          },
          "execution_count": 28
        }
      ]
    },
    {
      "cell_type": "code",
      "metadata": {
        "colab": {
          "base_uri": "https://localhost:8080/",
          "height": 419
        },
        "id": "r2mo-OUSn5ic",
        "outputId": "22f19209-2b8f-4b67-f03f-0efde41079aa"
      },
      "source": [
        "#Creating a dataframe from the pivot table created\n",
        "sales_by_date_df=pd.DataFrame(index=pd.date_range(start = '2018-07-01',end='2019-06-30'))\n",
        "sales_by_date_df['TOT_SALES'] = sales_by_date\n",
        "sales_by_date_df"
      ],
      "execution_count": null,
      "outputs": [
        {
          "output_type": "execute_result",
          "data": {
            "text/html": [
              "<div>\n",
              "<style scoped>\n",
              "    .dataframe tbody tr th:only-of-type {\n",
              "        vertical-align: middle;\n",
              "    }\n",
              "\n",
              "    .dataframe tbody tr th {\n",
              "        vertical-align: top;\n",
              "    }\n",
              "\n",
              "    .dataframe thead th {\n",
              "        text-align: right;\n",
              "    }\n",
              "</style>\n",
              "<table border=\"1\" class=\"dataframe\">\n",
              "  <thead>\n",
              "    <tr style=\"text-align: right;\">\n",
              "      <th></th>\n",
              "      <th>TOT_SALES</th>\n",
              "    </tr>\n",
              "  </thead>\n",
              "  <tbody>\n",
              "    <tr>\n",
              "      <th>2018-07-01</th>\n",
              "      <td>4920.1</td>\n",
              "    </tr>\n",
              "    <tr>\n",
              "      <th>2018-07-02</th>\n",
              "      <td>4877.0</td>\n",
              "    </tr>\n",
              "    <tr>\n",
              "      <th>2018-07-03</th>\n",
              "      <td>4954.7</td>\n",
              "    </tr>\n",
              "    <tr>\n",
              "      <th>2018-07-04</th>\n",
              "      <td>4968.1</td>\n",
              "    </tr>\n",
              "    <tr>\n",
              "      <th>2018-07-05</th>\n",
              "      <td>4682.0</td>\n",
              "    </tr>\n",
              "    <tr>\n",
              "      <th>...</th>\n",
              "      <td>...</td>\n",
              "    </tr>\n",
              "    <tr>\n",
              "      <th>2019-06-26</th>\n",
              "      <td>4829.7</td>\n",
              "    </tr>\n",
              "    <tr>\n",
              "      <th>2019-06-27</th>\n",
              "      <td>4941.3</td>\n",
              "    </tr>\n",
              "    <tr>\n",
              "      <th>2019-06-28</th>\n",
              "      <td>4876.6</td>\n",
              "    </tr>\n",
              "    <tr>\n",
              "      <th>2019-06-29</th>\n",
              "      <td>5177.6</td>\n",
              "    </tr>\n",
              "    <tr>\n",
              "      <th>2019-06-30</th>\n",
              "      <td>5108.4</td>\n",
              "    </tr>\n",
              "  </tbody>\n",
              "</table>\n",
              "<p>365 rows × 1 columns</p>\n",
              "</div>"
            ],
            "text/plain": [
              "            TOT_SALES\n",
              "2018-07-01     4920.1\n",
              "2018-07-02     4877.0\n",
              "2018-07-03     4954.7\n",
              "2018-07-04     4968.1\n",
              "2018-07-05     4682.0\n",
              "...               ...\n",
              "2019-06-26     4829.7\n",
              "2019-06-27     4941.3\n",
              "2019-06-28     4876.6\n",
              "2019-06-29     5177.6\n",
              "2019-06-30     5108.4\n",
              "\n",
              "[365 rows x 1 columns]"
            ]
          },
          "metadata": {
            "tags": []
          },
          "execution_count": 29
        }
      ]
    },
    {
      "cell_type": "markdown",
      "metadata": {
        "id": "JEL7whyS2bj5"
      },
      "source": [
        "***DATA VISUALISATION***"
      ]
    },
    {
      "cell_type": "code",
      "metadata": {
        "colab": {
          "base_uri": "https://localhost:8080/",
          "height": 295
        },
        "id": "zQxMA69UpS8f",
        "outputId": "f421d990-89e8-4ae6-9915-a197299b540c"
      },
      "source": [
        "#Total Sales by date plot\n",
        "\n",
        "sales_by_date_df.plot()\n",
        "\n"
      ],
      "execution_count": null,
      "outputs": [
        {
          "output_type": "execute_result",
          "data": {
            "text/plain": [
              "<matplotlib.axes._subplots.AxesSubplot at 0x7fc8602a6208>"
            ]
          },
          "metadata": {
            "tags": []
          },
          "execution_count": 30
        },
        {
          "output_type": "display_data",
          "data": {
            "image/png": "[encoded data removed]",
            "text/plain": [
              "<Figure size 432x288 with 1 Axes>"
            ]
          },
          "metadata": {
            "tags": [],
            "needs_background": "light"
          }
        }
      ]
    },
    {
      "cell_type": "code",
      "metadata": {
        "colab": {
          "base_uri": "https://localhost:8080/"
        },
        "id": "K6wM8P0SrWMx",
        "outputId": "b40fe275-dcbf-4beb-f853-c56ea4b6bcad"
      },
      "source": [
        "#Checking for unique entrie in 'SIZE_OF_PACK'\n",
        "transaction_data['SIZE_OF_PACK'].unique()"
      ],
      "execution_count": null,
      "outputs": [
        {
          "output_type": "execute_result",
          "data": {
            "text/plain": [
              "array([175, 170, 150, 330, 210, 270, 220, 125, 110, 134, 380, 180, 165,\n",
              "       135, 250, 200, 160, 190,  90,  70])"
            ]
          },
          "metadata": {
            "tags": []
          },
          "execution_count": 31
        }
      ]
    },
    {
      "cell_type": "code",
      "metadata": {
        "colab": {
          "base_uri": "https://localhost:8080/",
          "height": 282
        },
        "id": "oVW0pB1wrfhb",
        "outputId": "f0a9fa48-010f-4d19-a3b3-3ce478fa7d55"
      },
      "source": [
        "#Histogram visualisation of size of packs sold\n",
        "transaction_data['SIZE_OF_PACK'].hist()"
      ],
      "execution_count": null,
      "outputs": [
        {
          "output_type": "execute_result",
          "data": {
            "text/plain": [
              "<matplotlib.axes._subplots.AxesSubplot at 0x7fc860152860>"
            ]
          },
          "metadata": {
            "tags": []
          },
          "execution_count": 32
        },
        {
          "output_type": "display_data",
          "data": {
            "image/png": "[encoded data removed]",
            "text/plain": [
              "<Figure size 432x288 with 1 Axes>"
            ]
          },
          "metadata": {
            "tags": [],
            "needs_background": "light"
          }
        }
      ]
    },
    {
      "cell_type": "markdown",
      "metadata": {
        "id": "b6jvm2IS26AY"
      },
      "source": [
        "**CUSTOMER DATA**"
      ]
    },
    {
      "cell_type": "code",
      "metadata": {
        "colab": {
          "base_uri": "https://localhost:8080/",
          "height": 204
        },
        "id": "6nE0KEI-2_HV",
        "outputId": "6d7c09c1-ce8d-4426-e84f-271b6e9ae8ae"
      },
      "source": [
        "#Reading customer data\n",
        "purchase_behaviour=pd.read_csv('/content/drive/MyDrive/QVI_purchase_behaviour.csv')\n",
        "purchase_behaviour.head()"
      ],
      "execution_count": null,
      "outputs": [
        {
          "output_type": "execute_result",
          "data": {
            "text/html": [
              "<div>\n",
              "<style scoped>\n",
              "    .dataframe tbody tr th:only-of-type {\n",
              "        vertical-align: middle;\n",
              "    }\n",
              "\n",
              "    .dataframe tbody tr th {\n",
              "        vertical-align: top;\n",
              "    }\n",
              "\n",
              "    .dataframe thead th {\n",
              "        text-align: right;\n",
              "    }\n",
              "</style>\n",
              "<table border=\"1\" class=\"dataframe\">\n",
              "  <thead>\n",
              "    <tr style=\"text-align: right;\">\n",
              "      <th></th>\n",
              "      <th>LYLTY_CARD_NBR</th>\n",
              "      <th>LIFESTAGE</th>\n",
              "      <th>PREMIUM_CUSTOMER</th>\n",
              "    </tr>\n",
              "  </thead>\n",
              "  <tbody>\n",
              "    <tr>\n",
              "      <th>0</th>\n",
              "      <td>1000</td>\n",
              "      <td>YOUNG SINGLES/COUPLES</td>\n",
              "      <td>Premium</td>\n",
              "    </tr>\n",
              "    <tr>\n",
              "      <th>1</th>\n",
              "      <td>1002</td>\n",
              "      <td>YOUNG SINGLES/COUPLES</td>\n",
              "      <td>Mainstream</td>\n",
              "    </tr>\n",
              "    <tr>\n",
              "      <th>2</th>\n",
              "      <td>1003</td>\n",
              "      <td>YOUNG FAMILIES</td>\n",
              "      <td>Budget</td>\n",
              "    </tr>\n",
              "    <tr>\n",
              "      <th>3</th>\n",
              "      <td>1004</td>\n",
              "      <td>OLDER SINGLES/COUPLES</td>\n",
              "      <td>Mainstream</td>\n",
              "    </tr>\n",
              "    <tr>\n",
              "      <th>4</th>\n",
              "      <td>1005</td>\n",
              "      <td>MIDAGE SINGLES/COUPLES</td>\n",
              "      <td>Mainstream</td>\n",
              "    </tr>\n",
              "  </tbody>\n",
              "</table>\n",
              "</div>"
            ],
            "text/plain": [
              "   LYLTY_CARD_NBR               LIFESTAGE PREMIUM_CUSTOMER\n",
              "0            1000   YOUNG SINGLES/COUPLES          Premium\n",
              "1            1002   YOUNG SINGLES/COUPLES       Mainstream\n",
              "2            1003          YOUNG FAMILIES           Budget\n",
              "3            1004   OLDER SINGLES/COUPLES       Mainstream\n",
              "4            1005  MIDAGE SINGLES/COUPLES       Mainstream"
            ]
          },
          "metadata": {
            "tags": []
          },
          "execution_count": 33
        }
      ]
    },
    {
      "cell_type": "code",
      "metadata": {
        "colab": {
          "base_uri": "https://localhost:8080/"
        },
        "id": "-mXVgX4M3lIJ",
        "outputId": "d504b6ae-26ac-4f9b-b4a2-c05e311189c2"
      },
      "source": [
        "purchase_behaviour.info()"
      ],
      "execution_count": null,
      "outputs": [
        {
          "output_type": "stream",
          "text": [
            "<class 'pandas.core.frame.DataFrame'>\n",
            "RangeIndex: 72637 entries, 0 to 72636\n",
            "Data columns (total 3 columns):\n",
            " #   Column            Non-Null Count  Dtype \n",
            "---  ------            --------------  ----- \n",
            " 0   LYLTY_CARD_NBR    72637 non-null  int64 \n",
            " 1   LIFESTAGE         72637 non-null  object\n",
            " 2   PREMIUM_CUSTOMER  72637 non-null  object\n",
            "dtypes: int64(1), object(2)\n",
            "memory usage: 1.7+ MB\n"
          ],
          "name": "stdout"
        }
      ]
    },
    {
      "cell_type": "code",
      "metadata": {
        "colab": {
          "base_uri": "https://localhost:8080/"
        },
        "id": "2YWVM8sR-plD",
        "outputId": "da0a3e91-0496-4a3f-8a4e-720bfd263aa6"
      },
      "source": [
        "#Examining shape of customer data\n",
        "purchase_behaviour.shape"
      ],
      "execution_count": null,
      "outputs": [
        {
          "output_type": "execute_result",
          "data": {
            "text/plain": [
              "(72637, 3)"
            ]
          },
          "metadata": {
            "tags": []
          },
          "execution_count": 35
        }
      ]
    },
    {
      "cell_type": "code",
      "metadata": {
        "colab": {
          "base_uri": "https://localhost:8080/",
          "height": 419
        },
        "id": "_MtJ7P-v4NEm",
        "outputId": "e8032b85-94e9-483a-e7a0-ce9edb15da36"
      },
      "source": [
        "#Removing the entry with outliers\n",
        "purchase_behaviour.drop(purchase_behaviour.index[purchase_behaviour['LYLTY_CARD_NBR'] == 226000],inplace=True)\n",
        "purchase_behaviour.loc[['LYLTY_CARD_NBR']== 226000:]"
      ],
      "execution_count": null,
      "outputs": [
        {
          "output_type": "execute_result",
          "data": {
            "text/html": [
              "<div>\n",
              "<style scoped>\n",
              "    .dataframe tbody tr th:only-of-type {\n",
              "        vertical-align: middle;\n",
              "    }\n",
              "\n",
              "    .dataframe tbody tr th {\n",
              "        vertical-align: top;\n",
              "    }\n",
              "\n",
              "    .dataframe thead th {\n",
              "        text-align: right;\n",
              "    }\n",
              "</style>\n",
              "<table border=\"1\" class=\"dataframe\">\n",
              "  <thead>\n",
              "    <tr style=\"text-align: right;\">\n",
              "      <th></th>\n",
              "      <th>LYLTY_CARD_NBR</th>\n",
              "      <th>LIFESTAGE</th>\n",
              "      <th>PREMIUM_CUSTOMER</th>\n",
              "    </tr>\n",
              "  </thead>\n",
              "  <tbody>\n",
              "    <tr>\n",
              "      <th>0</th>\n",
              "      <td>1000</td>\n",
              "      <td>YOUNG SINGLES/COUPLES</td>\n",
              "      <td>Premium</td>\n",
              "    </tr>\n",
              "    <tr>\n",
              "      <th>1</th>\n",
              "      <td>1002</td>\n",
              "      <td>YOUNG SINGLES/COUPLES</td>\n",
              "      <td>Mainstream</td>\n",
              "    </tr>\n",
              "    <tr>\n",
              "      <th>2</th>\n",
              "      <td>1003</td>\n",
              "      <td>YOUNG FAMILIES</td>\n",
              "      <td>Budget</td>\n",
              "    </tr>\n",
              "    <tr>\n",
              "      <th>3</th>\n",
              "      <td>1004</td>\n",
              "      <td>OLDER SINGLES/COUPLES</td>\n",
              "      <td>Mainstream</td>\n",
              "    </tr>\n",
              "    <tr>\n",
              "      <th>4</th>\n",
              "      <td>1005</td>\n",
              "      <td>MIDAGE SINGLES/COUPLES</td>\n",
              "      <td>Mainstream</td>\n",
              "    </tr>\n",
              "    <tr>\n",
              "      <th>...</th>\n",
              "      <td>...</td>\n",
              "      <td>...</td>\n",
              "      <td>...</td>\n",
              "    </tr>\n",
              "    <tr>\n",
              "      <th>72632</th>\n",
              "      <td>2370651</td>\n",
              "      <td>MIDAGE SINGLES/COUPLES</td>\n",
              "      <td>Mainstream</td>\n",
              "    </tr>\n",
              "    <tr>\n",
              "      <th>72633</th>\n",
              "      <td>2370701</td>\n",
              "      <td>YOUNG FAMILIES</td>\n",
              "      <td>Mainstream</td>\n",
              "    </tr>\n",
              "    <tr>\n",
              "      <th>72634</th>\n",
              "      <td>2370751</td>\n",
              "      <td>YOUNG FAMILIES</td>\n",
              "      <td>Premium</td>\n",
              "    </tr>\n",
              "    <tr>\n",
              "      <th>72635</th>\n",
              "      <td>2370961</td>\n",
              "      <td>OLDER FAMILIES</td>\n",
              "      <td>Budget</td>\n",
              "    </tr>\n",
              "    <tr>\n",
              "      <th>72636</th>\n",
              "      <td>2373711</td>\n",
              "      <td>YOUNG SINGLES/COUPLES</td>\n",
              "      <td>Mainstream</td>\n",
              "    </tr>\n",
              "  </tbody>\n",
              "</table>\n",
              "<p>72636 rows × 3 columns</p>\n",
              "</div>"
            ],
            "text/plain": [
              "       LYLTY_CARD_NBR               LIFESTAGE PREMIUM_CUSTOMER\n",
              "0                1000   YOUNG SINGLES/COUPLES          Premium\n",
              "1                1002   YOUNG SINGLES/COUPLES       Mainstream\n",
              "2                1003          YOUNG FAMILIES           Budget\n",
              "3                1004   OLDER SINGLES/COUPLES       Mainstream\n",
              "4                1005  MIDAGE SINGLES/COUPLES       Mainstream\n",
              "...               ...                     ...              ...\n",
              "72632         2370651  MIDAGE SINGLES/COUPLES       Mainstream\n",
              "72633         2370701          YOUNG FAMILIES       Mainstream\n",
              "72634         2370751          YOUNG FAMILIES          Premium\n",
              "72635         2370961          OLDER FAMILIES           Budget\n",
              "72636         2373711   YOUNG SINGLES/COUPLES       Mainstream\n",
              "\n",
              "[72636 rows x 3 columns]"
            ]
          },
          "metadata": {
            "tags": []
          },
          "execution_count": 36
        }
      ]
    },
    {
      "cell_type": "code",
      "metadata": {
        "colab": {
          "base_uri": "https://localhost:8080/"
        },
        "id": "GZtFmzgm3ufX",
        "outputId": "b8d20862-e193-4935-d023-28126fbdebeb"
      },
      "source": [
        "#Checking for duplicate entries in 'LYLTY_CARD_NUMBER'\n",
        "purchase_behaviour['LYLTY_CARD_NBR'].nunique()"
      ],
      "execution_count": null,
      "outputs": [
        {
          "output_type": "execute_result",
          "data": {
            "text/plain": [
              "72636"
            ]
          },
          "metadata": {
            "tags": []
          },
          "execution_count": 37
        }
      ]
    },
    {
      "cell_type": "code",
      "metadata": {
        "colab": {
          "base_uri": "https://localhost:8080/"
        },
        "id": "WD6aqqVO5TSy",
        "outputId": "7173f847-54ec-427e-c35a-ff7207009ba7"
      },
      "source": [
        "#Checking for duplicate entries in 'LIFESTAGE'\n",
        "purchase_behaviour['LIFESTAGE'].unique()"
      ],
      "execution_count": null,
      "outputs": [
        {
          "output_type": "execute_result",
          "data": {
            "text/plain": [
              "array(['YOUNG SINGLES/COUPLES', 'YOUNG FAMILIES', 'OLDER SINGLES/COUPLES',\n",
              "       'MIDAGE SINGLES/COUPLES', 'NEW FAMILIES', 'OLDER FAMILIES',\n",
              "       'RETIREES'], dtype=object)"
            ]
          },
          "metadata": {
            "tags": []
          },
          "execution_count": 38
        }
      ]
    },
    {
      "cell_type": "code",
      "metadata": {
        "colab": {
          "base_uri": "https://localhost:8080/"
        },
        "id": "vr2ZJwRH5o-l",
        "outputId": "7b71034b-987c-44ba-f6cf-73b9665a22a6"
      },
      "source": [
        "#Checking for count of each lifestage\n",
        "purchase_behaviour['LIFESTAGE'].value_counts().sort_values(ascending=False)"
      ],
      "execution_count": null,
      "outputs": [
        {
          "output_type": "execute_result",
          "data": {
            "text/plain": [
              "RETIREES                  14805\n",
              "OLDER SINGLES/COUPLES     14609\n",
              "YOUNG SINGLES/COUPLES     14441\n",
              "OLDER FAMILIES             9779\n",
              "YOUNG FAMILIES             9178\n",
              "MIDAGE SINGLES/COUPLES     7275\n",
              "NEW FAMILIES               2549\n",
              "Name: LIFESTAGE, dtype: int64"
            ]
          },
          "metadata": {
            "tags": []
          },
          "execution_count": 39
        }
      ]
    },
    {
      "cell_type": "markdown",
      "metadata": {
        "id": "fdHjsoo58Rue"
      },
      "source": [
        "***DATA VISUALISATION***"
      ]
    },
    {
      "cell_type": "code",
      "metadata": {
        "colab": {
          "base_uri": "https://localhost:8080/",
          "height": 296
        },
        "id": "JYrjROCE6thO",
        "outputId": "7c1c6fc2-5636-47c8-81f7-8976fbdbe1b6"
      },
      "source": [
        "#Visualisation of lifestage by count\n",
        "sns.countplot(y=purchase_behaviour['LIFESTAGE'],order=purchase_behaviour['LIFESTAGE'].value_counts().index)"
      ],
      "execution_count": null,
      "outputs": [
        {
          "output_type": "execute_result",
          "data": {
            "text/plain": [
              "<matplotlib.axes._subplots.AxesSubplot at 0x7fc85fc09780>"
            ]
          },
          "metadata": {
            "tags": []
          },
          "execution_count": 40
        },
        {
          "output_type": "display_data",
          "data": {
            "image/png": "[encoded data removed]",
            "text/plain": [
              "<Figure size 432x288 with 1 Axes>"
            ]
          },
          "metadata": {
            "tags": [],
            "needs_background": "light"
          }
        }
      ]
    },
    {
      "cell_type": "code",
      "metadata": {
        "colab": {
          "base_uri": "https://localhost:8080/"
        },
        "id": "LitaFqAn7S8z",
        "outputId": "ea330fc2-a192-4bf0-ac8d-1eeeb2011ada"
      },
      "source": [
        "purchase_behaviour['PREMIUM_CUSTOMER'].unique()"
      ],
      "execution_count": null,
      "outputs": [
        {
          "output_type": "execute_result",
          "data": {
            "text/plain": [
              "array(['Premium', 'Mainstream', 'Budget'], dtype=object)"
            ]
          },
          "metadata": {
            "tags": []
          },
          "execution_count": 41
        }
      ]
    },
    {
      "cell_type": "code",
      "metadata": {
        "colab": {
          "base_uri": "https://localhost:8080/",
          "height": 296
        },
        "id": "NGiZ170L7fT3",
        "outputId": "9e8aaa95-a4ed-4dac-b8bc-ea92a0d4fc67"
      },
      "source": [
        "#Visualisation of 'PREMIUM_CUSTOMER'\n",
        "sns.countplot(y=purchase_behaviour['PREMIUM_CUSTOMER'])"
      ],
      "execution_count": null,
      "outputs": [
        {
          "output_type": "execute_result",
          "data": {
            "text/plain": [
              "<matplotlib.axes._subplots.AxesSubplot at 0x7fc85fb0fdd8>"
            ]
          },
          "metadata": {
            "tags": []
          },
          "execution_count": 42
        },
        {
          "output_type": "display_data",
          "data": {
            "image/png": "[encoded data removed]",
            "text/plain": [
              "<Figure size 432x288 with 1 Axes>"
            ]
          },
          "metadata": {
            "tags": [],
            "needs_background": "light"
          }
        }
      ]
    },
    {
      "cell_type": "markdown",
      "metadata": {
        "id": "h4lK6dXO9A33"
      },
      "source": [
        "**MERGING TRANSACTION DATA WITH CUSTOMER DATA**"
      ]
    },
    {
      "cell_type": "code",
      "metadata": {
        "colab": {
          "base_uri": "https://localhost:8080/",
          "height": 411
        },
        "id": "YE2SweUC9ZhW",
        "outputId": "9e633c15-fc3a-43d3-d399-f51730d85f83"
      },
      "source": [
        "#Since transaction data and customer data have a column similar to each other i.e. 'LYLTY_CARD_NBR' we can merge them.\n",
        "\n",
        "\n",
        "customer_transactions=pd.merge(transaction_data,purchase_behaviour)\n",
        "customer_transactions.head()"
      ],
      "execution_count": null,
      "outputs": [
        {
          "output_type": "execute_result",
          "data": {
            "text/html": [
              "<div>\n",
              "<style scoped>\n",
              "    .dataframe tbody tr th:only-of-type {\n",
              "        vertical-align: middle;\n",
              "    }\n",
              "\n",
              "    .dataframe tbody tr th {\n",
              "        vertical-align: top;\n",
              "    }\n",
              "\n",
              "    .dataframe thead th {\n",
              "        text-align: right;\n",
              "    }\n",
              "</style>\n",
              "<table border=\"1\" class=\"dataframe\">\n",
              "  <thead>\n",
              "    <tr style=\"text-align: right;\">\n",
              "      <th></th>\n",
              "      <th>DATE</th>\n",
              "      <th>STORE_NBR</th>\n",
              "      <th>LYLTY_CARD_NBR</th>\n",
              "      <th>TXN_ID</th>\n",
              "      <th>PROD_NBR</th>\n",
              "      <th>PROD_NAME</th>\n",
              "      <th>PROD_QTY</th>\n",
              "      <th>TOT_SALES</th>\n",
              "      <th>SIZE_OF_PACK</th>\n",
              "      <th>BRAND</th>\n",
              "      <th>LIFESTAGE</th>\n",
              "      <th>PREMIUM_CUSTOMER</th>\n",
              "    </tr>\n",
              "  </thead>\n",
              "  <tbody>\n",
              "    <tr>\n",
              "      <th>0</th>\n",
              "      <td>2018-10-17</td>\n",
              "      <td>1</td>\n",
              "      <td>1000</td>\n",
              "      <td>1</td>\n",
              "      <td>5</td>\n",
              "      <td>Natural Chip        Compny Seasalt</td>\n",
              "      <td>2</td>\n",
              "      <td>6.0</td>\n",
              "      <td>175</td>\n",
              "      <td>Ncc</td>\n",
              "      <td>YOUNG SINGLES/COUPLES</td>\n",
              "      <td>Premium</td>\n",
              "    </tr>\n",
              "    <tr>\n",
              "      <th>1</th>\n",
              "      <td>2019-05-14</td>\n",
              "      <td>1</td>\n",
              "      <td>1307</td>\n",
              "      <td>348</td>\n",
              "      <td>66</td>\n",
              "      <td>Ccs Nacho Cheese</td>\n",
              "      <td>3</td>\n",
              "      <td>6.3</td>\n",
              "      <td>175</td>\n",
              "      <td>Ccs</td>\n",
              "      <td>MIDAGE SINGLES/COUPLES</td>\n",
              "      <td>Budget</td>\n",
              "    </tr>\n",
              "    <tr>\n",
              "      <th>2</th>\n",
              "      <td>2018-11-10</td>\n",
              "      <td>1</td>\n",
              "      <td>1307</td>\n",
              "      <td>346</td>\n",
              "      <td>96</td>\n",
              "      <td>Ww Original Stacked Chips</td>\n",
              "      <td>2</td>\n",
              "      <td>3.8</td>\n",
              "      <td>160</td>\n",
              "      <td>Woolworths</td>\n",
              "      <td>MIDAGE SINGLES/COUPLES</td>\n",
              "      <td>Budget</td>\n",
              "    </tr>\n",
              "    <tr>\n",
              "      <th>3</th>\n",
              "      <td>2019-03-09</td>\n",
              "      <td>1</td>\n",
              "      <td>1307</td>\n",
              "      <td>347</td>\n",
              "      <td>54</td>\n",
              "      <td>Ccs Original</td>\n",
              "      <td>1</td>\n",
              "      <td>2.1</td>\n",
              "      <td>175</td>\n",
              "      <td>Ccs</td>\n",
              "      <td>MIDAGE SINGLES/COUPLES</td>\n",
              "      <td>Budget</td>\n",
              "    </tr>\n",
              "    <tr>\n",
              "      <th>4</th>\n",
              "      <td>2019-05-20</td>\n",
              "      <td>1</td>\n",
              "      <td>1343</td>\n",
              "      <td>383</td>\n",
              "      <td>61</td>\n",
              "      <td>Smiths Crinkle Cut  Chips Chicken</td>\n",
              "      <td>2</td>\n",
              "      <td>2.9</td>\n",
              "      <td>170</td>\n",
              "      <td>Smiths</td>\n",
              "      <td>MIDAGE SINGLES/COUPLES</td>\n",
              "      <td>Budget</td>\n",
              "    </tr>\n",
              "  </tbody>\n",
              "</table>\n",
              "</div>"
            ],
            "text/plain": [
              "        DATE  STORE_NBR  ...               LIFESTAGE  PREMIUM_CUSTOMER\n",
              "0 2018-10-17          1  ...   YOUNG SINGLES/COUPLES           Premium\n",
              "1 2019-05-14          1  ...  MIDAGE SINGLES/COUPLES            Budget\n",
              "2 2018-11-10          1  ...  MIDAGE SINGLES/COUPLES            Budget\n",
              "3 2019-03-09          1  ...  MIDAGE SINGLES/COUPLES            Budget\n",
              "4 2019-05-20          1  ...  MIDAGE SINGLES/COUPLES            Budget\n",
              "\n",
              "[5 rows x 12 columns]"
            ]
          },
          "metadata": {
            "tags": []
          },
          "execution_count": 43
        }
      ]
    },
    {
      "cell_type": "code",
      "metadata": {
        "colab": {
          "base_uri": "https://localhost:8080/"
        },
        "id": "d6KQGHid92oW",
        "outputId": "4f1a89b7-5735-42e2-b550-b809247ba75f"
      },
      "source": [
        "customer_transactions.info()"
      ],
      "execution_count": null,
      "outputs": [
        {
          "output_type": "stream",
          "text": [
            "<class 'pandas.core.frame.DataFrame'>\n",
            "Int64Index: 246740 entries, 0 to 246739\n",
            "Data columns (total 12 columns):\n",
            " #   Column            Non-Null Count   Dtype         \n",
            "---  ------            --------------   -----         \n",
            " 0   DATE              246740 non-null  datetime64[ns]\n",
            " 1   STORE_NBR         246740 non-null  int64         \n",
            " 2   LYLTY_CARD_NBR    246740 non-null  int64         \n",
            " 3   TXN_ID            246740 non-null  int64         \n",
            " 4   PROD_NBR          246740 non-null  int64         \n",
            " 5   PROD_NAME         246740 non-null  object        \n",
            " 6   PROD_QTY          246740 non-null  int64         \n",
            " 7   TOT_SALES         246740 non-null  float64       \n",
            " 8   SIZE_OF_PACK      246740 non-null  int64         \n",
            " 9   BRAND             246740 non-null  object        \n",
            " 10  LIFESTAGE         246740 non-null  object        \n",
            " 11  PREMIUM_CUSTOMER  246740 non-null  object        \n",
            "dtypes: datetime64[ns](1), float64(1), int64(6), object(4)\n",
            "memory usage: 24.5+ MB\n"
          ],
          "name": "stdout"
        }
      ]
    },
    {
      "cell_type": "markdown",
      "metadata": {
        "id": "_-8K6dIs_0ME"
      },
      "source": [
        "**CUSTOMER SEGMENTATION ANALYSIS**\n",
        "\n",
        "> Having merged our datasets we can derive as well  as visualise some information such as:\n",
        "\n",
        "- Who spends the most on chips (total sales), describing customers by lifestage and how premium their general purchasing behaviour is\n",
        "- How many customers are in each segment\n",
        "- How many chips are bought per customer by segment\n",
        "- What's the average chip price by customer segment\n",
        "\n",
        "\n",
        "\n",
        "\n"
      ]
    },
    {
      "cell_type": "code",
      "metadata": {
        "colab": {
          "base_uri": "https://localhost:8080/",
          "height": 731
        },
        "id": "tLKSlhni__CJ",
        "outputId": "d7f50902-104a-4a27-ee3a-ac91d4ebc157"
      },
      "source": [
        "#'TOT_SALES' by 'LIFESTAGE' and 'PREMIUM_CUSTOMER'\n",
        "Sales_Lifestage_Premium=pd.DataFrame(customer_transactions.groupby(['LIFESTAGE','PREMIUM_CUSTOMER']).TOT_SALES.sum())\n",
        "Sales_Lifestage_Premium.sort_values(by='TOT_SALES',ascending=False)\n",
        "\n"
      ],
      "execution_count": null,
      "outputs": [
        {
          "output_type": "execute_result",
          "data": {
            "text/html": [
              "<div>\n",
              "<style scoped>\n",
              "    .dataframe tbody tr th:only-of-type {\n",
              "        vertical-align: middle;\n",
              "    }\n",
              "\n",
              "    .dataframe tbody tr th {\n",
              "        vertical-align: top;\n",
              "    }\n",
              "\n",
              "    .dataframe thead th {\n",
              "        text-align: right;\n",
              "    }\n",
              "</style>\n",
              "<table border=\"1\" class=\"dataframe\">\n",
              "  <thead>\n",
              "    <tr style=\"text-align: right;\">\n",
              "      <th></th>\n",
              "      <th></th>\n",
              "      <th>TOT_SALES</th>\n",
              "    </tr>\n",
              "    <tr>\n",
              "      <th>LIFESTAGE</th>\n",
              "      <th>PREMIUM_CUSTOMER</th>\n",
              "      <th></th>\n",
              "    </tr>\n",
              "  </thead>\n",
              "  <tbody>\n",
              "    <tr>\n",
              "      <th>OLDER FAMILIES</th>\n",
              "      <th>Budget</th>\n",
              "      <td>156863.75</td>\n",
              "    </tr>\n",
              "    <tr>\n",
              "      <th>YOUNG SINGLES/COUPLES</th>\n",
              "      <th>Mainstream</th>\n",
              "      <td>147582.20</td>\n",
              "    </tr>\n",
              "    <tr>\n",
              "      <th>RETIREES</th>\n",
              "      <th>Mainstream</th>\n",
              "      <td>145168.95</td>\n",
              "    </tr>\n",
              "    <tr>\n",
              "      <th>YOUNG FAMILIES</th>\n",
              "      <th>Budget</th>\n",
              "      <td>129717.95</td>\n",
              "    </tr>\n",
              "    <tr>\n",
              "      <th rowspan=\"3\" valign=\"top\">OLDER SINGLES/COUPLES</th>\n",
              "      <th>Budget</th>\n",
              "      <td>127833.60</td>\n",
              "    </tr>\n",
              "    <tr>\n",
              "      <th>Mainstream</th>\n",
              "      <td>124648.50</td>\n",
              "    </tr>\n",
              "    <tr>\n",
              "      <th>Premium</th>\n",
              "      <td>123537.55</td>\n",
              "    </tr>\n",
              "    <tr>\n",
              "      <th>RETIREES</th>\n",
              "      <th>Budget</th>\n",
              "      <td>105916.30</td>\n",
              "    </tr>\n",
              "    <tr>\n",
              "      <th>OLDER FAMILIES</th>\n",
              "      <th>Mainstream</th>\n",
              "      <td>96413.55</td>\n",
              "    </tr>\n",
              "    <tr>\n",
              "      <th>RETIREES</th>\n",
              "      <th>Premium</th>\n",
              "      <td>91296.65</td>\n",
              "    </tr>\n",
              "    <tr>\n",
              "      <th>YOUNG FAMILIES</th>\n",
              "      <th>Mainstream</th>\n",
              "      <td>86338.25</td>\n",
              "    </tr>\n",
              "    <tr>\n",
              "      <th>MIDAGE SINGLES/COUPLES</th>\n",
              "      <th>Mainstream</th>\n",
              "      <td>84734.25</td>\n",
              "    </tr>\n",
              "    <tr>\n",
              "      <th>YOUNG FAMILIES</th>\n",
              "      <th>Premium</th>\n",
              "      <td>78571.70</td>\n",
              "    </tr>\n",
              "    <tr>\n",
              "      <th>OLDER FAMILIES</th>\n",
              "      <th>Premium</th>\n",
              "      <td>75242.60</td>\n",
              "    </tr>\n",
              "    <tr>\n",
              "      <th>YOUNG SINGLES/COUPLES</th>\n",
              "      <th>Budget</th>\n",
              "      <td>57122.10</td>\n",
              "    </tr>\n",
              "    <tr>\n",
              "      <th>MIDAGE SINGLES/COUPLES</th>\n",
              "      <th>Premium</th>\n",
              "      <td>54443.85</td>\n",
              "    </tr>\n",
              "    <tr>\n",
              "      <th>YOUNG SINGLES/COUPLES</th>\n",
              "      <th>Premium</th>\n",
              "      <td>39052.30</td>\n",
              "    </tr>\n",
              "    <tr>\n",
              "      <th>MIDAGE SINGLES/COUPLES</th>\n",
              "      <th>Budget</th>\n",
              "      <td>33345.70</td>\n",
              "    </tr>\n",
              "    <tr>\n",
              "      <th rowspan=\"3\" valign=\"top\">NEW FAMILIES</th>\n",
              "      <th>Budget</th>\n",
              "      <td>20607.45</td>\n",
              "    </tr>\n",
              "    <tr>\n",
              "      <th>Mainstream</th>\n",
              "      <td>15979.70</td>\n",
              "    </tr>\n",
              "    <tr>\n",
              "      <th>Premium</th>\n",
              "      <td>10760.80</td>\n",
              "    </tr>\n",
              "  </tbody>\n",
              "</table>\n",
              "</div>"
            ],
            "text/plain": [
              "                                         TOT_SALES\n",
              "LIFESTAGE              PREMIUM_CUSTOMER           \n",
              "OLDER FAMILIES         Budget            156863.75\n",
              "YOUNG SINGLES/COUPLES  Mainstream        147582.20\n",
              "RETIREES               Mainstream        145168.95\n",
              "YOUNG FAMILIES         Budget            129717.95\n",
              "OLDER SINGLES/COUPLES  Budget            127833.60\n",
              "                       Mainstream        124648.50\n",
              "                       Premium           123537.55\n",
              "RETIREES               Budget            105916.30\n",
              "OLDER FAMILIES         Mainstream         96413.55\n",
              "RETIREES               Premium            91296.65\n",
              "YOUNG FAMILIES         Mainstream         86338.25\n",
              "MIDAGE SINGLES/COUPLES Mainstream         84734.25\n",
              "YOUNG FAMILIES         Premium            78571.70\n",
              "OLDER FAMILIES         Premium            75242.60\n",
              "YOUNG SINGLES/COUPLES  Budget             57122.10\n",
              "MIDAGE SINGLES/COUPLES Premium            54443.85\n",
              "YOUNG SINGLES/COUPLES  Premium            39052.30\n",
              "MIDAGE SINGLES/COUPLES Budget             33345.70\n",
              "NEW FAMILIES           Budget             20607.45\n",
              "                       Mainstream         15979.70\n",
              "                       Premium            10760.80"
            ]
          },
          "metadata": {
            "tags": []
          },
          "execution_count": 45
        }
      ]
    },
    {
      "cell_type": "code",
      "metadata": {
        "colab": {
          "base_uri": "https://localhost:8080/",
          "height": 491
        },
        "id": "kljdz28WBcQY",
        "outputId": "66e69082-285f-4173-935f-31e1e4b1c88f"
      },
      "source": [
        "#Visualisation of Sales_Lifestage_Premium\n",
        "Sales_Lifestage_Premium.unstack().plot(kind='bar',stacked=False,figsize=(10,5),title='Total Sales')\n",
        "plt.ylabel('Total Sales')\n",
        "\n"
      ],
      "execution_count": null,
      "outputs": [
        {
          "output_type": "execute_result",
          "data": {
            "text/plain": [
              "Text(0, 0.5, 'Total Sales')"
            ]
          },
          "metadata": {
            "tags": []
          },
          "execution_count": 46
        },
        {
          "output_type": "display_data",
          "data": {
            "image/png": "[encoded data removed]",
            "text/plain": [
              "<Figure size 720x360 with 1 Axes>"
            ]
          },
          "metadata": {
            "tags": [],
            "needs_background": "light"
          }
        }
      ]
    },
    {
      "cell_type": "code",
      "metadata": {
        "colab": {
          "base_uri": "https://localhost:8080/",
          "height": 731
        },
        "id": "Wnt4G8gDCHyU",
        "outputId": "db1a6dc8-68cf-4a8f-db9b-9d69b985623c"
      },
      "source": [
        "#Are higher sales generated by more customers\n",
        "customers_per_segment=pd.DataFrame(customer_transactions.groupby(['LIFESTAGE','PREMIUM_CUSTOMER']).LYLTY_CARD_NBR.nunique())\n",
        "customers_per_segment.sort_values(by='LYLTY_CARD_NBR',ascending=False)"
      ],
      "execution_count": null,
      "outputs": [
        {
          "output_type": "execute_result",
          "data": {
            "text/html": [
              "<div>\n",
              "<style scoped>\n",
              "    .dataframe tbody tr th:only-of-type {\n",
              "        vertical-align: middle;\n",
              "    }\n",
              "\n",
              "    .dataframe tbody tr th {\n",
              "        vertical-align: top;\n",
              "    }\n",
              "\n",
              "    .dataframe thead th {\n",
              "        text-align: right;\n",
              "    }\n",
              "</style>\n",
              "<table border=\"1\" class=\"dataframe\">\n",
              "  <thead>\n",
              "    <tr style=\"text-align: right;\">\n",
              "      <th></th>\n",
              "      <th></th>\n",
              "      <th>LYLTY_CARD_NBR</th>\n",
              "    </tr>\n",
              "    <tr>\n",
              "      <th>LIFESTAGE</th>\n",
              "      <th>PREMIUM_CUSTOMER</th>\n",
              "      <th></th>\n",
              "    </tr>\n",
              "  </thead>\n",
              "  <tbody>\n",
              "    <tr>\n",
              "      <th>YOUNG SINGLES/COUPLES</th>\n",
              "      <th>Mainstream</th>\n",
              "      <td>7917</td>\n",
              "    </tr>\n",
              "    <tr>\n",
              "      <th>RETIREES</th>\n",
              "      <th>Mainstream</th>\n",
              "      <td>6358</td>\n",
              "    </tr>\n",
              "    <tr>\n",
              "      <th rowspan=\"3\" valign=\"top\">OLDER SINGLES/COUPLES</th>\n",
              "      <th>Mainstream</th>\n",
              "      <td>4858</td>\n",
              "    </tr>\n",
              "    <tr>\n",
              "      <th>Budget</th>\n",
              "      <td>4849</td>\n",
              "    </tr>\n",
              "    <tr>\n",
              "      <th>Premium</th>\n",
              "      <td>4682</td>\n",
              "    </tr>\n",
              "    <tr>\n",
              "      <th>OLDER FAMILIES</th>\n",
              "      <th>Budget</th>\n",
              "      <td>4611</td>\n",
              "    </tr>\n",
              "    <tr>\n",
              "      <th>RETIREES</th>\n",
              "      <th>Budget</th>\n",
              "      <td>4385</td>\n",
              "    </tr>\n",
              "    <tr>\n",
              "      <th>YOUNG FAMILIES</th>\n",
              "      <th>Budget</th>\n",
              "      <td>3953</td>\n",
              "    </tr>\n",
              "    <tr>\n",
              "      <th>RETIREES</th>\n",
              "      <th>Premium</th>\n",
              "      <td>3812</td>\n",
              "    </tr>\n",
              "    <tr>\n",
              "      <th>YOUNG SINGLES/COUPLES</th>\n",
              "      <th>Budget</th>\n",
              "      <td>3647</td>\n",
              "    </tr>\n",
              "    <tr>\n",
              "      <th>MIDAGE SINGLES/COUPLES</th>\n",
              "      <th>Mainstream</th>\n",
              "      <td>3298</td>\n",
              "    </tr>\n",
              "    <tr>\n",
              "      <th>OLDER FAMILIES</th>\n",
              "      <th>Mainstream</th>\n",
              "      <td>2788</td>\n",
              "    </tr>\n",
              "    <tr>\n",
              "      <th>YOUNG FAMILIES</th>\n",
              "      <th>Mainstream</th>\n",
              "      <td>2685</td>\n",
              "    </tr>\n",
              "    <tr>\n",
              "      <th>YOUNG SINGLES/COUPLES</th>\n",
              "      <th>Premium</th>\n",
              "      <td>2480</td>\n",
              "    </tr>\n",
              "    <tr>\n",
              "      <th>YOUNG FAMILIES</th>\n",
              "      <th>Premium</th>\n",
              "      <td>2398</td>\n",
              "    </tr>\n",
              "    <tr>\n",
              "      <th>MIDAGE SINGLES/COUPLES</th>\n",
              "      <th>Premium</th>\n",
              "      <td>2369</td>\n",
              "    </tr>\n",
              "    <tr>\n",
              "      <th>OLDER FAMILIES</th>\n",
              "      <th>Premium</th>\n",
              "      <td>2231</td>\n",
              "    </tr>\n",
              "    <tr>\n",
              "      <th>MIDAGE SINGLES/COUPLES</th>\n",
              "      <th>Budget</th>\n",
              "      <td>1474</td>\n",
              "    </tr>\n",
              "    <tr>\n",
              "      <th rowspan=\"3\" valign=\"top\">NEW FAMILIES</th>\n",
              "      <th>Budget</th>\n",
              "      <td>1087</td>\n",
              "    </tr>\n",
              "    <tr>\n",
              "      <th>Mainstream</th>\n",
              "      <td>830</td>\n",
              "    </tr>\n",
              "    <tr>\n",
              "      <th>Premium</th>\n",
              "      <td>575</td>\n",
              "    </tr>\n",
              "  </tbody>\n",
              "</table>\n",
              "</div>"
            ],
            "text/plain": [
              "                                         LYLTY_CARD_NBR\n",
              "LIFESTAGE              PREMIUM_CUSTOMER                \n",
              "YOUNG SINGLES/COUPLES  Mainstream                  7917\n",
              "RETIREES               Mainstream                  6358\n",
              "OLDER SINGLES/COUPLES  Mainstream                  4858\n",
              "                       Budget                      4849\n",
              "                       Premium                     4682\n",
              "OLDER FAMILIES         Budget                      4611\n",
              "RETIREES               Budget                      4385\n",
              "YOUNG FAMILIES         Budget                      3953\n",
              "RETIREES               Premium                     3812\n",
              "YOUNG SINGLES/COUPLES  Budget                      3647\n",
              "MIDAGE SINGLES/COUPLES Mainstream                  3298\n",
              "OLDER FAMILIES         Mainstream                  2788\n",
              "YOUNG FAMILIES         Mainstream                  2685\n",
              "YOUNG SINGLES/COUPLES  Premium                     2480\n",
              "YOUNG FAMILIES         Premium                     2398\n",
              "MIDAGE SINGLES/COUPLES Premium                     2369\n",
              "OLDER FAMILIES         Premium                     2231\n",
              "MIDAGE SINGLES/COUPLES Budget                      1474\n",
              "NEW FAMILIES           Budget                      1087\n",
              "                       Mainstream                   830\n",
              "                       Premium                      575"
            ]
          },
          "metadata": {
            "tags": []
          },
          "execution_count": 47
        }
      ]
    },
    {
      "cell_type": "code",
      "metadata": {
        "colab": {
          "base_uri": "https://localhost:8080/",
          "height": 600
        },
        "id": "gmEUvAT8Dhjt",
        "outputId": "0faa174e-068a-49b2-f35d-5d51d2e2b370"
      },
      "source": [
        "#Visualisation of Customer_per_segment\n",
        "customers_per_segment.unstack().plot(kind='bar',stacked=False,figsize=(12,7),title='Customers per segment')\n",
        "plt.ylabel('Number of Customers')"
      ],
      "execution_count": null,
      "outputs": [
        {
          "output_type": "execute_result",
          "data": {
            "text/plain": [
              "Text(0, 0.5, 'Number of Customers')"
            ]
          },
          "metadata": {
            "tags": []
          },
          "execution_count": 48
        },
        {
          "output_type": "display_data",
          "data": {
            "image/png": "[encoded data removed]",
            "text/plain": [
              "<Figure size 864x504 with 1 Axes>"
            ]
          },
          "metadata": {
            "tags": [],
            "needs_background": "light"
          }
        }
      ]
    },
    {
      "cell_type": "code",
      "metadata": {
        "colab": {
          "base_uri": "https://localhost:8080/"
        },
        "id": "R81fPlRlLeSN",
        "outputId": "3202708a-dc6f-4a41-e37a-22658675897c"
      },
      "source": [
        "#Chips bought by a customer on average\n",
        "chip_avg_unit=customer_transactions.groupby(['LIFESTAGE','PREMIUM_CUSTOMER']).PROD_QTY.sum() / customer_transactions.groupby(['LIFESTAGE','PREMIUM_CUSTOMER']).LYLTY_CARD_NBR.nunique()\n",
        "chip_avg_unit.sort_values(ascending=False)"
      ],
      "execution_count": null,
      "outputs": [
        {
          "output_type": "execute_result",
          "data": {
            "text/plain": [
              "LIFESTAGE               PREMIUM_CUSTOMER\n",
              "OLDER FAMILIES          Mainstream          9.255380\n",
              "                        Budget              9.076773\n",
              "                        Premium             9.071717\n",
              "YOUNG FAMILIES          Budget              8.722995\n",
              "                        Premium             8.716013\n",
              "                        Mainstream          8.638361\n",
              "OLDER SINGLES/COUPLES   Budget              6.781398\n",
              "                        Premium             6.769543\n",
              "                        Mainstream          6.712021\n",
              "MIDAGE SINGLES/COUPLES  Mainstream          6.432080\n",
              "RETIREES                Budget              6.141847\n",
              "                        Premium             6.103358\n",
              "MIDAGE SINGLES/COUPLES  Premium             6.078514\n",
              "                        Budget              6.026459\n",
              "RETIREES                Mainstream          5.925920\n",
              "NEW FAMILIES            Mainstream          4.891566\n",
              "                        Budget              4.821527\n",
              "                        Premium             4.815652\n",
              "YOUNG SINGLES/COUPLES   Mainstream          4.575597\n",
              "                        Premium             4.264113\n",
              "                        Budget              4.250069\n",
              "dtype: float64"
            ]
          },
          "metadata": {
            "tags": []
          },
          "execution_count": 49
        }
      ]
    },
    {
      "cell_type": "code",
      "metadata": {
        "colab": {
          "base_uri": "https://localhost:8080/",
          "height": 600
        },
        "id": "F6M__iX4FS1Y",
        "outputId": "2e1180bd-5818-4dba-b67d-59427c498e94"
      },
      "source": [
        "#Visualisation of average chips bought by a customer segment\n",
        "\n",
        "chip_avg_unit.unstack().plot(kind='bar',stacked=False,figsize=(12,7),title='Average chip per customer segment')\n",
        "plt.ylabel('Average chips bought by customers in each segment')\n"
      ],
      "execution_count": null,
      "outputs": [
        {
          "output_type": "execute_result",
          "data": {
            "text/plain": [
              "Text(0, 0.5, 'Average chips bought by customers in each segment')"
            ]
          },
          "metadata": {
            "tags": []
          },
          "execution_count": 50
        },
        {
          "output_type": "display_data",
          "data": {
            "image/png": "[encoded data removed]",
            "text/plain": [
              "<Figure size 864x504 with 1 Axes>"
            ]
          },
          "metadata": {
            "tags": [],
            "needs_background": "light"
          }
        }
      ]
    },
    {
      "cell_type": "code",
      "metadata": {
        "colab": {
          "base_uri": "https://localhost:8080/"
        },
        "id": "K0wWdgbCFSh1",
        "outputId": "25aa56e1-d7e3-41eb-a84f-bc2f4b7162b9"
      },
      "source": [
        "#Average price of chips by customer\n",
        "avg_chip_price=customer_transactions.groupby(['LIFESTAGE','PREMIUM_CUSTOMER']).TOT_SALES.sum() / customer_transactions.groupby(['LIFESTAGE','PREMIUM_CUSTOMER']).PROD_QTY.sum()\n",
        "avg_chip_price.sort_values(ascending=False)\n"
      ],
      "execution_count": null,
      "outputs": [
        {
          "output_type": "execute_result",
          "data": {
            "text/plain": [
              "LIFESTAGE               PREMIUM_CUSTOMER\n",
              "YOUNG SINGLES/COUPLES   Mainstream          4.074043\n",
              "MIDAGE SINGLES/COUPLES  Mainstream          3.994449\n",
              "NEW FAMILIES            Mainstream          3.935887\n",
              "RETIREES                Budget              3.932731\n",
              "NEW FAMILIES            Budget              3.931969\n",
              "RETIREES                Premium             3.924037\n",
              "OLDER SINGLES/COUPLES   Premium             3.897698\n",
              "                        Budget              3.887529\n",
              "NEW FAMILIES            Premium             3.886168\n",
              "RETIREES                Mainstream          3.852986\n",
              "OLDER SINGLES/COUPLES   Mainstream          3.822753\n",
              "MIDAGE SINGLES/COUPLES  Premium             3.780823\n",
              "YOUNG FAMILIES          Budget              3.761903\n",
              "                        Premium             3.759232\n",
              "MIDAGE SINGLES/COUPLES  Budget              3.753878\n",
              "OLDER FAMILIES          Budget              3.747969\n",
              "                        Mainstream          3.736380\n",
              "YOUNG FAMILIES          Mainstream          3.722439\n",
              "OLDER FAMILIES          Premium             3.717703\n",
              "YOUNG SINGLES/COUPLES   Premium             3.692889\n",
              "                        Budget              3.685297\n",
              "dtype: float64"
            ]
          },
          "metadata": {
            "tags": []
          },
          "execution_count": 51
        }
      ]
    },
    {
      "cell_type": "code",
      "metadata": {
        "colab": {
          "base_uri": "https://localhost:8080/",
          "height": 600
        },
        "id": "8GrL6wo4MMfo",
        "outputId": "a2e4acf1-ad55-4c7a-9887-b94c89446ab2"
      },
      "source": [
        "#Visualisation of amount spent on a packet of chips by a customer segment\n",
        "avg_chip_price.unstack().plot(kind='bar',stacked=False,figsize=(12,7),title='Amount spent per chips')\n",
        "plt.ylabel('Price per chips')"
      ],
      "execution_count": null,
      "outputs": [
        {
          "output_type": "execute_result",
          "data": {
            "text/plain": [
              "Text(0, 0.5, 'Price per chips')"
            ]
          },
          "metadata": {
            "tags": []
          },
          "execution_count": 52
        },
        {
          "output_type": "display_data",
          "data": {
            "image/png": "[encoded data removed]",
            "text/plain": [
              "<Figure size 864x504 with 1 Axes>"
            ]
          },
          "metadata": {
            "tags": [],
            "needs_background": "light"
          }
        }
      ]
    },
    {
      "cell_type": "code",
      "metadata": {
        "colab": {
          "base_uri": "https://localhost:8080/",
          "height": 411
        },
        "id": "yaw4GVepKVxm",
        "outputId": "0ef0efd6-62c5-4027-d5c6-3875e27e598b"
      },
      "source": [
        "\n",
        "#Creating a new column for price per packet\n",
        "PRICE_PER_PKT=customer_transactions\n",
        "customer_transactions['PRICE_PER_PKT']=customer_transactions['TOT_SALES'] / customer_transactions['PROD_QTY']\n",
        "customer_transactions.head()"
      ],
      "execution_count": null,
      "outputs": [
        {
          "output_type": "execute_result",
          "data": {
            "text/html": [
              "<div>\n",
              "<style scoped>\n",
              "    .dataframe tbody tr th:only-of-type {\n",
              "        vertical-align: middle;\n",
              "    }\n",
              "\n",
              "    .dataframe tbody tr th {\n",
              "        vertical-align: top;\n",
              "    }\n",
              "\n",
              "    .dataframe thead th {\n",
              "        text-align: right;\n",
              "    }\n",
              "</style>\n",
              "<table border=\"1\" class=\"dataframe\">\n",
              "  <thead>\n",
              "    <tr style=\"text-align: right;\">\n",
              "      <th></th>\n",
              "      <th>DATE</th>\n",
              "      <th>STORE_NBR</th>\n",
              "      <th>LYLTY_CARD_NBR</th>\n",
              "      <th>TXN_ID</th>\n",
              "      <th>PROD_NBR</th>\n",
              "      <th>PROD_NAME</th>\n",
              "      <th>PROD_QTY</th>\n",
              "      <th>TOT_SALES</th>\n",
              "      <th>SIZE_OF_PACK</th>\n",
              "      <th>BRAND</th>\n",
              "      <th>LIFESTAGE</th>\n",
              "      <th>PREMIUM_CUSTOMER</th>\n",
              "      <th>PRICE_PER_PKT</th>\n",
              "    </tr>\n",
              "  </thead>\n",
              "  <tbody>\n",
              "    <tr>\n",
              "      <th>0</th>\n",
              "      <td>2018-10-17</td>\n",
              "      <td>1</td>\n",
              "      <td>1000</td>\n",
              "      <td>1</td>\n",
              "      <td>5</td>\n",
              "      <td>Natural Chip        Compny Seasalt</td>\n",
              "      <td>2</td>\n",
              "      <td>6.0</td>\n",
              "      <td>175</td>\n",
              "      <td>Ncc</td>\n",
              "      <td>YOUNG SINGLES/COUPLES</td>\n",
              "      <td>Premium</td>\n",
              "      <td>3.00</td>\n",
              "    </tr>\n",
              "    <tr>\n",
              "      <th>1</th>\n",
              "      <td>2019-05-14</td>\n",
              "      <td>1</td>\n",
              "      <td>1307</td>\n",
              "      <td>348</td>\n",
              "      <td>66</td>\n",
              "      <td>Ccs Nacho Cheese</td>\n",
              "      <td>3</td>\n",
              "      <td>6.3</td>\n",
              "      <td>175</td>\n",
              "      <td>Ccs</td>\n",
              "      <td>MIDAGE SINGLES/COUPLES</td>\n",
              "      <td>Budget</td>\n",
              "      <td>2.10</td>\n",
              "    </tr>\n",
              "    <tr>\n",
              "      <th>2</th>\n",
              "      <td>2018-11-10</td>\n",
              "      <td>1</td>\n",
              "      <td>1307</td>\n",
              "      <td>346</td>\n",
              "      <td>96</td>\n",
              "      <td>Ww Original Stacked Chips</td>\n",
              "      <td>2</td>\n",
              "      <td>3.8</td>\n",
              "      <td>160</td>\n",
              "      <td>Woolworths</td>\n",
              "      <td>MIDAGE SINGLES/COUPLES</td>\n",
              "      <td>Budget</td>\n",
              "      <td>1.90</td>\n",
              "    </tr>\n",
              "    <tr>\n",
              "      <th>3</th>\n",
              "      <td>2019-03-09</td>\n",
              "      <td>1</td>\n",
              "      <td>1307</td>\n",
              "      <td>347</td>\n",
              "      <td>54</td>\n",
              "      <td>Ccs Original</td>\n",
              "      <td>1</td>\n",
              "      <td>2.1</td>\n",
              "      <td>175</td>\n",
              "      <td>Ccs</td>\n",
              "      <td>MIDAGE SINGLES/COUPLES</td>\n",
              "      <td>Budget</td>\n",
              "      <td>2.10</td>\n",
              "    </tr>\n",
              "    <tr>\n",
              "      <th>4</th>\n",
              "      <td>2019-05-20</td>\n",
              "      <td>1</td>\n",
              "      <td>1343</td>\n",
              "      <td>383</td>\n",
              "      <td>61</td>\n",
              "      <td>Smiths Crinkle Cut  Chips Chicken</td>\n",
              "      <td>2</td>\n",
              "      <td>2.9</td>\n",
              "      <td>170</td>\n",
              "      <td>Smiths</td>\n",
              "      <td>MIDAGE SINGLES/COUPLES</td>\n",
              "      <td>Budget</td>\n",
              "      <td>1.45</td>\n",
              "    </tr>\n",
              "  </tbody>\n",
              "</table>\n",
              "</div>"
            ],
            "text/plain": [
              "        DATE  STORE_NBR  ...  PREMIUM_CUSTOMER  PRICE_PER_PKT\n",
              "0 2018-10-17          1  ...           Premium           3.00\n",
              "1 2019-05-14          1  ...            Budget           2.10\n",
              "2 2018-11-10          1  ...            Budget           1.90\n",
              "3 2019-03-09          1  ...            Budget           2.10\n",
              "4 2019-05-20          1  ...            Budget           1.45\n",
              "\n",
              "[5 rows x 13 columns]"
            ]
          },
          "metadata": {
            "tags": []
          },
          "execution_count": 53
        }
      ]
    },
    {
      "cell_type": "code",
      "metadata": {
        "id": "B7gFMDuKuPlL"
      },
      "source": [
        "#Mainstream and Non_Mainstream segmentation\n",
        "Mainstream=PRICE_PER_PKT.loc[(PRICE_PER_PKT['PREMIUM_CUSTOMER'] == 'Mainstream') & ((PRICE_PER_PKT['LIFESTAGE'] == 'YOUNG SINGLES/COUPLES') | (PRICE_PER_PKT['LIFESTAGE'] == 'MIDAGE SINGLES/COUPLES')), 'PRICE_PER_PKT']\n",
        "Non_Mainstream=PRICE_PER_PKT.loc[(PRICE_PER_PKT['PREMIUM_CUSTOMER'] != 'Mainstream') & ((PRICE_PER_PKT['LIFESTAGE'] == 'YOUNG SINGLES/COUPLES') | (PRICE_PER_PKT['LIFESTAGE'] == 'MIDAGE SINGLES/COUPLES')), 'PRICE_PER_PKT']\n",
        "\n",
        "\n"
      ],
      "execution_count": null,
      "outputs": []
    },
    {
      "cell_type": "code",
      "metadata": {
        "colab": {
          "base_uri": "https://localhost:8080/"
        },
        "id": "9iy0OUncwXyD",
        "outputId": "0b2b42e7-7981-4c8d-fdd2-2cd42c264e9e"
      },
      "source": [
        "np.mean(Mainstream)"
      ],
      "execution_count": null,
      "outputs": [
        {
          "output_type": "execute_result",
          "data": {
            "text/plain": [
              "4.039785893795137"
            ]
          },
          "metadata": {
            "tags": []
          },
          "execution_count": 55
        }
      ]
    },
    {
      "cell_type": "code",
      "metadata": {
        "colab": {
          "base_uri": "https://localhost:8080/"
        },
        "id": "QXuijsONwybY",
        "outputId": "cb4b03a7-866e-408f-f9b5-f087a4a20e4a"
      },
      "source": [
        "np.mean(Non_Mainstream)"
      ],
      "execution_count": null,
      "outputs": [
        {
          "output_type": "execute_result",
          "data": {
            "text/plain": [
              "3.706491319963857"
            ]
          },
          "metadata": {
            "tags": []
          },
          "execution_count": 56
        }
      ]
    },
    {
      "cell_type": "code",
      "metadata": {
        "colab": {
          "base_uri": "https://localhost:8080/"
        },
        "id": "Hga_BSQIw2d-",
        "outputId": "927ac977-0aff-40f1-d373-1f02e9ca0cef"
      },
      "source": [
        "#Perform an independent t-test between mainstream vs non-mainstream midage and young singles/couples to test the significant difference in price\n",
        "from scipy.stats import ttest_ind\n",
        "ttest_ind(Mainstream,Non_Mainstream)"
      ],
      "execution_count": null,
      "outputs": [
        {
          "output_type": "execute_result",
          "data": {
            "text/plain": [
              "Ttest_indResult(statistic=37.83196107667825, pvalue=2.235645611540966e-309)"
            ]
          },
          "metadata": {
            "tags": []
          },
          "execution_count": 57
        }
      ]
    },
    {
      "cell_type": "code",
      "metadata": {
        "colab": {
          "base_uri": "https://localhost:8080/",
          "height": 394
        },
        "id": "mt7z9ptRxvlK",
        "outputId": "be0d5f36-4c5c-4379-923b-3a0953a59d54"
      },
      "source": [
        "#Assigning target groups to Mainstream Young Singles/Couples against Budget & Premium counterparts\n",
        "target_group= customer_transactions.loc[(customer_transactions['LIFESTAGE'] == 'YOUNG SINGLES/COUPLES') & (customer_transactions['PREMIUM_CUSTOMER'] == 'Mainstream'), :]\n",
        "non_target_group=customer_transactions.loc[(customer_transactions['LIFESTAGE'] != 'YOUNG SINGLES/COUPLES') & (customer_transactions['PREMIUM_CUSTOMER'] != 'Mainstream'), :]\n",
        "target_group.head()"
      ],
      "execution_count": null,
      "outputs": [
        {
          "output_type": "execute_result",
          "data": {
            "text/html": [
              "<div>\n",
              "<style scoped>\n",
              "    .dataframe tbody tr th:only-of-type {\n",
              "        vertical-align: middle;\n",
              "    }\n",
              "\n",
              "    .dataframe tbody tr th {\n",
              "        vertical-align: top;\n",
              "    }\n",
              "\n",
              "    .dataframe thead th {\n",
              "        text-align: right;\n",
              "    }\n",
              "</style>\n",
              "<table border=\"1\" class=\"dataframe\">\n",
              "  <thead>\n",
              "    <tr style=\"text-align: right;\">\n",
              "      <th></th>\n",
              "      <th>DATE</th>\n",
              "      <th>STORE_NBR</th>\n",
              "      <th>LYLTY_CARD_NBR</th>\n",
              "      <th>TXN_ID</th>\n",
              "      <th>PROD_NBR</th>\n",
              "      <th>PROD_NAME</th>\n",
              "      <th>PROD_QTY</th>\n",
              "      <th>TOT_SALES</th>\n",
              "      <th>SIZE_OF_PACK</th>\n",
              "      <th>BRAND</th>\n",
              "      <th>LIFESTAGE</th>\n",
              "      <th>PREMIUM_CUSTOMER</th>\n",
              "      <th>PRICE_PER_PKT</th>\n",
              "    </tr>\n",
              "  </thead>\n",
              "  <tbody>\n",
              "    <tr>\n",
              "      <th>221345</th>\n",
              "      <td>2018-08-16</td>\n",
              "      <td>1</td>\n",
              "      <td>1020</td>\n",
              "      <td>26</td>\n",
              "      <td>19</td>\n",
              "      <td>Smiths Crinkle Cut  Snagsauce</td>\n",
              "      <td>1</td>\n",
              "      <td>2.6</td>\n",
              "      <td>150</td>\n",
              "      <td>Smiths</td>\n",
              "      <td>YOUNG SINGLES/COUPLES</td>\n",
              "      <td>Mainstream</td>\n",
              "      <td>2.6</td>\n",
              "    </tr>\n",
              "    <tr>\n",
              "      <th>221346</th>\n",
              "      <td>2018-10-02</td>\n",
              "      <td>1</td>\n",
              "      <td>1020</td>\n",
              "      <td>27</td>\n",
              "      <td>7</td>\n",
              "      <td>Smiths Crinkle      Original</td>\n",
              "      <td>1</td>\n",
              "      <td>5.7</td>\n",
              "      <td>330</td>\n",
              "      <td>Smiths</td>\n",
              "      <td>YOUNG SINGLES/COUPLES</td>\n",
              "      <td>Mainstream</td>\n",
              "      <td>5.7</td>\n",
              "    </tr>\n",
              "    <tr>\n",
              "      <th>221347</th>\n",
              "      <td>2019-05-02</td>\n",
              "      <td>1</td>\n",
              "      <td>1020</td>\n",
              "      <td>28</td>\n",
              "      <td>84</td>\n",
              "      <td>Grnwves Plus Btroot  Chilli Jam</td>\n",
              "      <td>1</td>\n",
              "      <td>3.1</td>\n",
              "      <td>180</td>\n",
              "      <td>Grainwaves</td>\n",
              "      <td>YOUNG SINGLES/COUPLES</td>\n",
              "      <td>Mainstream</td>\n",
              "      <td>3.1</td>\n",
              "    </tr>\n",
              "    <tr>\n",
              "      <th>221348</th>\n",
              "      <td>2018-08-17</td>\n",
              "      <td>1</td>\n",
              "      <td>1163</td>\n",
              "      <td>188</td>\n",
              "      <td>46</td>\n",
              "      <td>Kettle Original</td>\n",
              "      <td>1</td>\n",
              "      <td>5.4</td>\n",
              "      <td>175</td>\n",
              "      <td>Kettle</td>\n",
              "      <td>YOUNG SINGLES/COUPLES</td>\n",
              "      <td>Mainstream</td>\n",
              "      <td>5.4</td>\n",
              "    </tr>\n",
              "    <tr>\n",
              "      <th>221349</th>\n",
              "      <td>2019-02-07</td>\n",
              "      <td>1</td>\n",
              "      <td>1163</td>\n",
              "      <td>189</td>\n",
              "      <td>12</td>\n",
              "      <td>Natural Chip Co     Tmato Hrbspce</td>\n",
              "      <td>1</td>\n",
              "      <td>3.0</td>\n",
              "      <td>175</td>\n",
              "      <td>Ncc</td>\n",
              "      <td>YOUNG SINGLES/COUPLES</td>\n",
              "      <td>Mainstream</td>\n",
              "      <td>3.0</td>\n",
              "    </tr>\n",
              "  </tbody>\n",
              "</table>\n",
              "</div>"
            ],
            "text/plain": [
              "             DATE  STORE_NBR  ...  PREMIUM_CUSTOMER  PRICE_PER_PKT\n",
              "221345 2018-08-16          1  ...        Mainstream            2.6\n",
              "221346 2018-10-02          1  ...        Mainstream            5.7\n",
              "221347 2019-05-02          1  ...        Mainstream            3.1\n",
              "221348 2018-08-17          1  ...        Mainstream            5.4\n",
              "221349 2019-02-07          1  ...        Mainstream            3.0\n",
              "\n",
              "[5 rows x 13 columns]"
            ]
          },
          "metadata": {
            "tags": []
          },
          "execution_count": 58
        }
      ]
    },
    {
      "cell_type": "markdown",
      "metadata": {
        "id": "YwvO_Ll8-FIT"
      },
      "source": [
        "**BRAND PREFERENCE**"
      ]
    },
    {
      "cell_type": "code",
      "metadata": {
        "colab": {
          "base_uri": "https://localhost:8080/",
          "height": 235
        },
        "id": "0h3K0c3H1ISv",
        "outputId": "095c6a5c-a41d-494a-bec7-a2b97fec83b1"
      },
      "source": [
        "#Establishing brand preference of MainStream Young Singles/Couples against Budget & Premium counterparts\n",
        "#Target Segment\n",
        "targetBrand = target_group.loc[:, ['BRAND', 'PROD_QTY']]\n",
        "targetSum = targetBrand['PROD_QTY'].sum()\n",
        "targetBrand['Target Brand Preference'] = targetBrand['PROD_QTY'] / targetSum\n",
        "targetBrand = pd.DataFrame(targetBrand.groupby('BRAND')['Target Brand Preference'].sum())\n",
        "targetBrand.head()"
      ],
      "execution_count": null,
      "outputs": [
        {
          "output_type": "execute_result",
          "data": {
            "text/html": [
              "<div>\n",
              "<style scoped>\n",
              "    .dataframe tbody tr th:only-of-type {\n",
              "        vertical-align: middle;\n",
              "    }\n",
              "\n",
              "    .dataframe tbody tr th {\n",
              "        vertical-align: top;\n",
              "    }\n",
              "\n",
              "    .dataframe thead th {\n",
              "        text-align: right;\n",
              "    }\n",
              "</style>\n",
              "<table border=\"1\" class=\"dataframe\">\n",
              "  <thead>\n",
              "    <tr style=\"text-align: right;\">\n",
              "      <th></th>\n",
              "      <th>Target Brand Preference</th>\n",
              "    </tr>\n",
              "    <tr>\n",
              "      <th>BRAND</th>\n",
              "      <th></th>\n",
              "    </tr>\n",
              "  </thead>\n",
              "  <tbody>\n",
              "    <tr>\n",
              "      <th>Burger</th>\n",
              "      <td>0.002926</td>\n",
              "    </tr>\n",
              "    <tr>\n",
              "      <th>Ccs</th>\n",
              "      <td>0.011180</td>\n",
              "    </tr>\n",
              "    <tr>\n",
              "      <th>Cheetos</th>\n",
              "      <td>0.008033</td>\n",
              "    </tr>\n",
              "    <tr>\n",
              "      <th>Cheezels</th>\n",
              "      <td>0.017971</td>\n",
              "    </tr>\n",
              "    <tr>\n",
              "      <th>Cobs</th>\n",
              "      <td>0.044638</td>\n",
              "    </tr>\n",
              "  </tbody>\n",
              "</table>\n",
              "</div>"
            ],
            "text/plain": [
              "          Target Brand Preference\n",
              "BRAND                            \n",
              "Burger                   0.002926\n",
              "Ccs                      0.011180\n",
              "Cheetos                  0.008033\n",
              "Cheezels                 0.017971\n",
              "Cobs                     0.044638"
            ]
          },
          "metadata": {
            "tags": []
          },
          "execution_count": 59
        }
      ]
    },
    {
      "cell_type": "code",
      "metadata": {
        "colab": {
          "base_uri": "https://localhost:8080/",
          "height": 235
        },
        "id": "LF24tx5ZxcjF",
        "outputId": "1a7fcac9-9bc6-40a9-c369-e2ba9bb549df"
      },
      "source": [
        "#non_target_group\n",
        "nonTargetBrand = non_target_group.loc[:, ['BRAND', 'PROD_QTY']]\n",
        "nonTargetSum = nonTargetBrand['PROD_QTY'].sum()\n",
        "nonTargetBrand['Non-Target Brand Preference'] = nonTargetBrand['PROD_QTY'] / nonTargetSum\n",
        "nonTargetBrand = pd.DataFrame(nonTargetBrand.groupby('BRAND')['Non-Target Brand Preference'].sum())\n",
        "nonTargetBrand.head()"
      ],
      "execution_count": null,
      "outputs": [
        {
          "output_type": "execute_result",
          "data": {
            "text/html": [
              "<div>\n",
              "<style scoped>\n",
              "    .dataframe tbody tr th:only-of-type {\n",
              "        vertical-align: middle;\n",
              "    }\n",
              "\n",
              "    .dataframe tbody tr th {\n",
              "        vertical-align: top;\n",
              "    }\n",
              "\n",
              "    .dataframe thead th {\n",
              "        text-align: right;\n",
              "    }\n",
              "</style>\n",
              "<table border=\"1\" class=\"dataframe\">\n",
              "  <thead>\n",
              "    <tr style=\"text-align: right;\">\n",
              "      <th></th>\n",
              "      <th>Non-Target Brand Preference</th>\n",
              "    </tr>\n",
              "    <tr>\n",
              "      <th>BRAND</th>\n",
              "      <th></th>\n",
              "    </tr>\n",
              "  </thead>\n",
              "  <tbody>\n",
              "    <tr>\n",
              "      <th>Burger</th>\n",
              "      <td>0.006538</td>\n",
              "    </tr>\n",
              "    <tr>\n",
              "      <th>Ccs</th>\n",
              "      <td>0.018445</td>\n",
              "    </tr>\n",
              "    <tr>\n",
              "      <th>Cheetos</th>\n",
              "      <td>0.011759</td>\n",
              "    </tr>\n",
              "    <tr>\n",
              "      <th>Cheezels</th>\n",
              "      <td>0.018904</td>\n",
              "    </tr>\n",
              "    <tr>\n",
              "      <th>Cobs</th>\n",
              "      <td>0.038449</td>\n",
              "    </tr>\n",
              "  </tbody>\n",
              "</table>\n",
              "</div>"
            ],
            "text/plain": [
              "          Non-Target Brand Preference\n",
              "BRAND                                \n",
              "Burger                       0.006538\n",
              "Ccs                          0.018445\n",
              "Cheetos                      0.011759\n",
              "Cheezels                     0.018904\n",
              "Cobs                         0.038449"
            ]
          },
          "metadata": {
            "tags": []
          },
          "execution_count": 60
        }
      ]
    },
    {
      "cell_type": "code",
      "metadata": {
        "colab": {
          "base_uri": "https://localhost:8080/",
          "height": 235
        },
        "id": "8SPah4Zdwfax",
        "outputId": "6a60babf-6b51-4b8d-c2b3-452f9d0859fb"
      },
      "source": [
        "#Merging the target and non target groups\n",
        "brand_preferences=pd.merge(targetBrand,nonTargetBrand,left_index=True,right_index=True)\n",
        "brand_preferences.head()"
      ],
      "execution_count": null,
      "outputs": [
        {
          "output_type": "execute_result",
          "data": {
            "text/html": [
              "<div>\n",
              "<style scoped>\n",
              "    .dataframe tbody tr th:only-of-type {\n",
              "        vertical-align: middle;\n",
              "    }\n",
              "\n",
              "    .dataframe tbody tr th {\n",
              "        vertical-align: top;\n",
              "    }\n",
              "\n",
              "    .dataframe thead th {\n",
              "        text-align: right;\n",
              "    }\n",
              "</style>\n",
              "<table border=\"1\" class=\"dataframe\">\n",
              "  <thead>\n",
              "    <tr style=\"text-align: right;\">\n",
              "      <th></th>\n",
              "      <th>Target Brand Preference</th>\n",
              "      <th>Non-Target Brand Preference</th>\n",
              "    </tr>\n",
              "    <tr>\n",
              "      <th>BRAND</th>\n",
              "      <th></th>\n",
              "      <th></th>\n",
              "    </tr>\n",
              "  </thead>\n",
              "  <tbody>\n",
              "    <tr>\n",
              "      <th>Burger</th>\n",
              "      <td>0.002926</td>\n",
              "      <td>0.006538</td>\n",
              "    </tr>\n",
              "    <tr>\n",
              "      <th>Ccs</th>\n",
              "      <td>0.011180</td>\n",
              "      <td>0.018445</td>\n",
              "    </tr>\n",
              "    <tr>\n",
              "      <th>Cheetos</th>\n",
              "      <td>0.008033</td>\n",
              "      <td>0.011759</td>\n",
              "    </tr>\n",
              "    <tr>\n",
              "      <th>Cheezels</th>\n",
              "      <td>0.017971</td>\n",
              "      <td>0.018904</td>\n",
              "    </tr>\n",
              "    <tr>\n",
              "      <th>Cobs</th>\n",
              "      <td>0.044638</td>\n",
              "      <td>0.038449</td>\n",
              "    </tr>\n",
              "  </tbody>\n",
              "</table>\n",
              "</div>"
            ],
            "text/plain": [
              "          Target Brand Preference  Non-Target Brand Preference\n",
              "BRAND                                                         \n",
              "Burger                   0.002926                     0.006538\n",
              "Ccs                      0.011180                     0.018445\n",
              "Cheetos                  0.008033                     0.011759\n",
              "Cheezels                 0.017971                     0.018904\n",
              "Cobs                     0.044638                     0.038449"
            ]
          },
          "metadata": {
            "tags": []
          },
          "execution_count": 61
        }
      ]
    },
    {
      "cell_type": "code",
      "metadata": {
        "colab": {
          "base_uri": "https://localhost:8080/",
          "height": 700
        },
        "id": "a-TH6--L4CQG",
        "outputId": "199b6aab-f1d6-440b-9d98-cb22385f687c"
      },
      "source": [
        "brand_preferences['Preference to Brand'] = brand_preferences['Target Brand Preference'] / brand_preferences['Non-Target Brand Preference']\n",
        "brand_preferences.sort_values(by = 'Preference to Brand', ascending = False)"
      ],
      "execution_count": null,
      "outputs": [
        {
          "output_type": "execute_result",
          "data": {
            "text/html": [
              "<div>\n",
              "<style scoped>\n",
              "    .dataframe tbody tr th:only-of-type {\n",
              "        vertical-align: middle;\n",
              "    }\n",
              "\n",
              "    .dataframe tbody tr th {\n",
              "        vertical-align: top;\n",
              "    }\n",
              "\n",
              "    .dataframe thead th {\n",
              "        text-align: right;\n",
              "    }\n",
              "</style>\n",
              "<table border=\"1\" class=\"dataframe\">\n",
              "  <thead>\n",
              "    <tr style=\"text-align: right;\">\n",
              "      <th></th>\n",
              "      <th>Target Brand Preference</th>\n",
              "      <th>Non-Target Brand Preference</th>\n",
              "      <th>Preference to Brand</th>\n",
              "    </tr>\n",
              "    <tr>\n",
              "      <th>BRAND</th>\n",
              "      <th></th>\n",
              "      <th></th>\n",
              "      <th></th>\n",
              "    </tr>\n",
              "  </thead>\n",
              "  <tbody>\n",
              "    <tr>\n",
              "      <th>Tyrrells</th>\n",
              "      <td>0.031553</td>\n",
              "      <td>0.025715</td>\n",
              "      <td>1.227025</td>\n",
              "    </tr>\n",
              "    <tr>\n",
              "      <th>Twisties</th>\n",
              "      <td>0.046184</td>\n",
              "      <td>0.037933</td>\n",
              "      <td>1.217506</td>\n",
              "    </tr>\n",
              "    <tr>\n",
              "      <th>Doritos</th>\n",
              "      <td>0.122761</td>\n",
              "      <td>0.101171</td>\n",
              "      <td>1.213397</td>\n",
              "    </tr>\n",
              "    <tr>\n",
              "      <th>Kettle</th>\n",
              "      <td>0.197985</td>\n",
              "      <td>0.166560</td>\n",
              "      <td>1.188667</td>\n",
              "    </tr>\n",
              "    <tr>\n",
              "      <th>Tostitos</th>\n",
              "      <td>0.045411</td>\n",
              "      <td>0.038350</td>\n",
              "      <td>1.184100</td>\n",
              "    </tr>\n",
              "    <tr>\n",
              "      <th>Pringles</th>\n",
              "      <td>0.119420</td>\n",
              "      <td>0.101110</td>\n",
              "      <td>1.181090</td>\n",
              "    </tr>\n",
              "    <tr>\n",
              "      <th>Cobs</th>\n",
              "      <td>0.044638</td>\n",
              "      <td>0.038449</td>\n",
              "      <td>1.160959</td>\n",
              "    </tr>\n",
              "    <tr>\n",
              "      <th>Infuzions</th>\n",
              "      <td>0.064679</td>\n",
              "      <td>0.057410</td>\n",
              "      <td>1.126622</td>\n",
              "    </tr>\n",
              "    <tr>\n",
              "      <th>Thins</th>\n",
              "      <td>0.060373</td>\n",
              "      <td>0.057159</td>\n",
              "      <td>1.056217</td>\n",
              "    </tr>\n",
              "    <tr>\n",
              "      <th>Grainwaves</th>\n",
              "      <td>0.032712</td>\n",
              "      <td>0.031069</td>\n",
              "      <td>1.052895</td>\n",
              "    </tr>\n",
              "    <tr>\n",
              "      <th>Cheezels</th>\n",
              "      <td>0.017971</td>\n",
              "      <td>0.018904</td>\n",
              "      <td>0.950653</td>\n",
              "    </tr>\n",
              "    <tr>\n",
              "      <th>Smiths</th>\n",
              "      <td>0.096370</td>\n",
              "      <td>0.124218</td>\n",
              "      <td>0.775811</td>\n",
              "    </tr>\n",
              "    <tr>\n",
              "      <th>French</th>\n",
              "      <td>0.003948</td>\n",
              "      <td>0.005707</td>\n",
              "      <td>0.691724</td>\n",
              "    </tr>\n",
              "    <tr>\n",
              "      <th>Cheetos</th>\n",
              "      <td>0.008033</td>\n",
              "      <td>0.011759</td>\n",
              "      <td>0.683150</td>\n",
              "    </tr>\n",
              "    <tr>\n",
              "      <th>Red Rock Deli</th>\n",
              "      <td>0.043810</td>\n",
              "      <td>0.067184</td>\n",
              "      <td>0.652080</td>\n",
              "    </tr>\n",
              "    <tr>\n",
              "      <th>Ncc</th>\n",
              "      <td>0.019600</td>\n",
              "      <td>0.030959</td>\n",
              "      <td>0.633091</td>\n",
              "    </tr>\n",
              "    <tr>\n",
              "      <th>Ccs</th>\n",
              "      <td>0.011180</td>\n",
              "      <td>0.018445</td>\n",
              "      <td>0.606142</td>\n",
              "    </tr>\n",
              "    <tr>\n",
              "      <th>Sunbites</th>\n",
              "      <td>0.006349</td>\n",
              "      <td>0.012613</td>\n",
              "      <td>0.503398</td>\n",
              "    </tr>\n",
              "    <tr>\n",
              "      <th>Woolworths</th>\n",
              "      <td>0.024099</td>\n",
              "      <td>0.048747</td>\n",
              "      <td>0.494376</td>\n",
              "    </tr>\n",
              "    <tr>\n",
              "      <th>Burger</th>\n",
              "      <td>0.002926</td>\n",
              "      <td>0.006538</td>\n",
              "      <td>0.447574</td>\n",
              "    </tr>\n",
              "  </tbody>\n",
              "</table>\n",
              "</div>"
            ],
            "text/plain": [
              "               Target Brand Preference  ...  Preference to Brand\n",
              "BRAND                                   ...                     \n",
              "Tyrrells                      0.031553  ...             1.227025\n",
              "Twisties                      0.046184  ...             1.217506\n",
              "Doritos                       0.122761  ...             1.213397\n",
              "Kettle                        0.197985  ...             1.188667\n",
              "Tostitos                      0.045411  ...             1.184100\n",
              "Pringles                      0.119420  ...             1.181090\n",
              "Cobs                          0.044638  ...             1.160959\n",
              "Infuzions                     0.064679  ...             1.126622\n",
              "Thins                         0.060373  ...             1.056217\n",
              "Grainwaves                    0.032712  ...             1.052895\n",
              "Cheezels                      0.017971  ...             0.950653\n",
              "Smiths                        0.096370  ...             0.775811\n",
              "French                        0.003948  ...             0.691724\n",
              "Cheetos                       0.008033  ...             0.683150\n",
              "Red Rock Deli                 0.043810  ...             0.652080\n",
              "Ncc                           0.019600  ...             0.633091\n",
              "Ccs                           0.011180  ...             0.606142\n",
              "Sunbites                      0.006349  ...             0.503398\n",
              "Woolworths                    0.024099  ...             0.494376\n",
              "Burger                        0.002926  ...             0.447574\n",
              "\n",
              "[20 rows x 3 columns]"
            ]
          },
          "metadata": {
            "tags": []
          },
          "execution_count": 62
        }
      ]
    },
    {
      "cell_type": "markdown",
      "metadata": {
        "id": "yt4xH3hV-OQb"
      },
      "source": [
        "**PACKET_SIZE PREFERENCE**"
      ]
    },
    {
      "cell_type": "code",
      "metadata": {
        "colab": {
          "base_uri": "https://localhost:8080/",
          "height": 235
        },
        "id": "M_6pwdtn47o-",
        "outputId": "e8d9f708-46f3-4dd5-97fc-fc07587e223d"
      },
      "source": [
        "#target group\n",
        "targetSize = target_group.loc[:, ['SIZE_OF_PACK', 'PROD_QTY']]\n",
        "targetSum = targetSize['PROD_QTY'].sum()\n",
        "targetSize['Target Size Preference'] = targetSize['PROD_QTY'] / targetSum\n",
        "targetSize= pd.DataFrame(targetSize.groupby('SIZE_OF_PACK')['Target Size Preference'].sum())\n",
        "targetSize.head()"
      ],
      "execution_count": null,
      "outputs": [
        {
          "output_type": "execute_result",
          "data": {
            "text/html": [
              "<div>\n",
              "<style scoped>\n",
              "    .dataframe tbody tr th:only-of-type {\n",
              "        vertical-align: middle;\n",
              "    }\n",
              "\n",
              "    .dataframe tbody tr th {\n",
              "        vertical-align: top;\n",
              "    }\n",
              "\n",
              "    .dataframe thead th {\n",
              "        text-align: right;\n",
              "    }\n",
              "</style>\n",
              "<table border=\"1\" class=\"dataframe\">\n",
              "  <thead>\n",
              "    <tr style=\"text-align: right;\">\n",
              "      <th></th>\n",
              "      <th>Target Size Preference</th>\n",
              "    </tr>\n",
              "    <tr>\n",
              "      <th>SIZE_OF_PACK</th>\n",
              "      <th></th>\n",
              "    </tr>\n",
              "  </thead>\n",
              "  <tbody>\n",
              "    <tr>\n",
              "      <th>70</th>\n",
              "      <td>0.003037</td>\n",
              "    </tr>\n",
              "    <tr>\n",
              "      <th>90</th>\n",
              "      <td>0.006349</td>\n",
              "    </tr>\n",
              "    <tr>\n",
              "      <th>110</th>\n",
              "      <td>0.106280</td>\n",
              "    </tr>\n",
              "    <tr>\n",
              "      <th>125</th>\n",
              "      <td>0.003009</td>\n",
              "    </tr>\n",
              "    <tr>\n",
              "      <th>134</th>\n",
              "      <td>0.119420</td>\n",
              "    </tr>\n",
              "  </tbody>\n",
              "</table>\n",
              "</div>"
            ],
            "text/plain": [
              "              Target Size Preference\n",
              "SIZE_OF_PACK                        \n",
              "70                          0.003037\n",
              "90                          0.006349\n",
              "110                         0.106280\n",
              "125                         0.003009\n",
              "134                         0.119420"
            ]
          },
          "metadata": {
            "tags": []
          },
          "execution_count": 63
        }
      ]
    },
    {
      "cell_type": "code",
      "metadata": {
        "colab": {
          "base_uri": "https://localhost:8080/",
          "height": 235
        },
        "id": "CSkScaPS_K77",
        "outputId": "99fb2e36-174d-40b0-c186-81e7043cba4c"
      },
      "source": [
        "#non_target group\n",
        "nontargetSize = non_target_group.loc[:, ['SIZE_OF_PACK', 'PROD_QTY']]\n",
        "nontargetSum = nontargetSize['PROD_QTY'].sum()\n",
        "nontargetSize['Non_Target Size Preference'] = nontargetSize['PROD_QTY'] / nontargetSum\n",
        "nontargetSize= pd.DataFrame(nontargetSize.groupby('SIZE_OF_PACK')['Non_Target Size Preference'].sum())\n",
        "nontargetSize.head()"
      ],
      "execution_count": null,
      "outputs": [
        {
          "output_type": "execute_result",
          "data": {
            "text/html": [
              "<div>\n",
              "<style scoped>\n",
              "    .dataframe tbody tr th:only-of-type {\n",
              "        vertical-align: middle;\n",
              "    }\n",
              "\n",
              "    .dataframe tbody tr th {\n",
              "        vertical-align: top;\n",
              "    }\n",
              "\n",
              "    .dataframe thead th {\n",
              "        text-align: right;\n",
              "    }\n",
              "</style>\n",
              "<table border=\"1\" class=\"dataframe\">\n",
              "  <thead>\n",
              "    <tr style=\"text-align: right;\">\n",
              "      <th></th>\n",
              "      <th>Non_Target Size Preference</th>\n",
              "    </tr>\n",
              "    <tr>\n",
              "      <th>SIZE_OF_PACK</th>\n",
              "      <th></th>\n",
              "    </tr>\n",
              "  </thead>\n",
              "  <tbody>\n",
              "    <tr>\n",
              "      <th>70</th>\n",
              "      <td>0.006284</td>\n",
              "    </tr>\n",
              "    <tr>\n",
              "      <th>90</th>\n",
              "      <td>0.012613</td>\n",
              "    </tr>\n",
              "    <tr>\n",
              "      <th>110</th>\n",
              "      <td>0.089575</td>\n",
              "    </tr>\n",
              "    <tr>\n",
              "      <th>125</th>\n",
              "      <td>0.005976</td>\n",
              "    </tr>\n",
              "    <tr>\n",
              "      <th>134</th>\n",
              "      <td>0.101110</td>\n",
              "    </tr>\n",
              "  </tbody>\n",
              "</table>\n",
              "</div>"
            ],
            "text/plain": [
              "              Non_Target Size Preference\n",
              "SIZE_OF_PACK                            \n",
              "70                              0.006284\n",
              "90                              0.012613\n",
              "110                             0.089575\n",
              "125                             0.005976\n",
              "134                             0.101110"
            ]
          },
          "metadata": {
            "tags": []
          },
          "execution_count": 64
        }
      ]
    },
    {
      "cell_type": "code",
      "metadata": {
        "colab": {
          "base_uri": "https://localhost:8080/",
          "height": 235
        },
        "id": "rt9wIFRS_pYa",
        "outputId": "38974fbe-3e40-433b-edc1-2f7811085411"
      },
      "source": [
        "packet_size=pd.merge(targetSize,nontargetSize,left_index=True,right_index=True)\n",
        "packet_size.head()"
      ],
      "execution_count": null,
      "outputs": [
        {
          "output_type": "execute_result",
          "data": {
            "text/html": [
              "<div>\n",
              "<style scoped>\n",
              "    .dataframe tbody tr th:only-of-type {\n",
              "        vertical-align: middle;\n",
              "    }\n",
              "\n",
              "    .dataframe tbody tr th {\n",
              "        vertical-align: top;\n",
              "    }\n",
              "\n",
              "    .dataframe thead th {\n",
              "        text-align: right;\n",
              "    }\n",
              "</style>\n",
              "<table border=\"1\" class=\"dataframe\">\n",
              "  <thead>\n",
              "    <tr style=\"text-align: right;\">\n",
              "      <th></th>\n",
              "      <th>Target Size Preference</th>\n",
              "      <th>Non_Target Size Preference</th>\n",
              "    </tr>\n",
              "    <tr>\n",
              "      <th>SIZE_OF_PACK</th>\n",
              "      <th></th>\n",
              "      <th></th>\n",
              "    </tr>\n",
              "  </thead>\n",
              "  <tbody>\n",
              "    <tr>\n",
              "      <th>70</th>\n",
              "      <td>0.003037</td>\n",
              "      <td>0.006284</td>\n",
              "    </tr>\n",
              "    <tr>\n",
              "      <th>90</th>\n",
              "      <td>0.006349</td>\n",
              "      <td>0.012613</td>\n",
              "    </tr>\n",
              "    <tr>\n",
              "      <th>110</th>\n",
              "      <td>0.106280</td>\n",
              "      <td>0.089575</td>\n",
              "    </tr>\n",
              "    <tr>\n",
              "      <th>125</th>\n",
              "      <td>0.003009</td>\n",
              "      <td>0.005976</td>\n",
              "    </tr>\n",
              "    <tr>\n",
              "      <th>134</th>\n",
              "      <td>0.119420</td>\n",
              "      <td>0.101110</td>\n",
              "    </tr>\n",
              "  </tbody>\n",
              "</table>\n",
              "</div>"
            ],
            "text/plain": [
              "              Target Size Preference  Non_Target Size Preference\n",
              "SIZE_OF_PACK                                                    \n",
              "70                          0.003037                    0.006284\n",
              "90                          0.006349                    0.012613\n",
              "110                         0.106280                    0.089575\n",
              "125                         0.003009                    0.005976\n",
              "134                         0.119420                    0.101110"
            ]
          },
          "metadata": {
            "tags": []
          },
          "execution_count": 65
        }
      ]
    },
    {
      "cell_type": "code",
      "metadata": {
        "colab": {
          "base_uri": "https://localhost:8080/",
          "height": 700
        },
        "id": "0Ozx2dLXA549",
        "outputId": "2621d6cc-58de-4717-a08d-76a83e6b2474"
      },
      "source": [
        "packet_size['Packsize Preference'] = packet_size['Target Size Preference'] / packet_size['Non_Target Size Preference']\n",
        "packet_size.sort_values(by = 'Packsize Preference', ascending = False)"
      ],
      "execution_count": null,
      "outputs": [
        {
          "output_type": "execute_result",
          "data": {
            "text/html": [
              "<div>\n",
              "<style scoped>\n",
              "    .dataframe tbody tr th:only-of-type {\n",
              "        vertical-align: middle;\n",
              "    }\n",
              "\n",
              "    .dataframe tbody tr th {\n",
              "        vertical-align: top;\n",
              "    }\n",
              "\n",
              "    .dataframe thead th {\n",
              "        text-align: right;\n",
              "    }\n",
              "</style>\n",
              "<table border=\"1\" class=\"dataframe\">\n",
              "  <thead>\n",
              "    <tr style=\"text-align: right;\">\n",
              "      <th></th>\n",
              "      <th>Target Size Preference</th>\n",
              "      <th>Non_Target Size Preference</th>\n",
              "      <th>Packsize Preference</th>\n",
              "    </tr>\n",
              "    <tr>\n",
              "      <th>SIZE_OF_PACK</th>\n",
              "      <th></th>\n",
              "      <th></th>\n",
              "      <th></th>\n",
              "    </tr>\n",
              "  </thead>\n",
              "  <tbody>\n",
              "    <tr>\n",
              "      <th>270</th>\n",
              "      <td>0.031829</td>\n",
              "      <td>0.025070</td>\n",
              "      <td>1.269608</td>\n",
              "    </tr>\n",
              "    <tr>\n",
              "      <th>380</th>\n",
              "      <td>0.032160</td>\n",
              "      <td>0.025711</td>\n",
              "      <td>1.250827</td>\n",
              "    </tr>\n",
              "    <tr>\n",
              "      <th>330</th>\n",
              "      <td>0.061284</td>\n",
              "      <td>0.050974</td>\n",
              "      <td>1.202243</td>\n",
              "    </tr>\n",
              "    <tr>\n",
              "      <th>110</th>\n",
              "      <td>0.106280</td>\n",
              "      <td>0.089575</td>\n",
              "      <td>1.186492</td>\n",
              "    </tr>\n",
              "    <tr>\n",
              "      <th>134</th>\n",
              "      <td>0.119420</td>\n",
              "      <td>0.101110</td>\n",
              "      <td>1.181090</td>\n",
              "    </tr>\n",
              "    <tr>\n",
              "      <th>210</th>\n",
              "      <td>0.029124</td>\n",
              "      <td>0.024891</td>\n",
              "      <td>1.170020</td>\n",
              "    </tr>\n",
              "    <tr>\n",
              "      <th>135</th>\n",
              "      <td>0.014769</td>\n",
              "      <td>0.012931</td>\n",
              "      <td>1.142086</td>\n",
              "    </tr>\n",
              "    <tr>\n",
              "      <th>250</th>\n",
              "      <td>0.014355</td>\n",
              "      <td>0.012863</td>\n",
              "      <td>1.115959</td>\n",
              "    </tr>\n",
              "    <tr>\n",
              "      <th>170</th>\n",
              "      <td>0.080773</td>\n",
              "      <td>0.080347</td>\n",
              "      <td>1.005300</td>\n",
              "    </tr>\n",
              "    <tr>\n",
              "      <th>150</th>\n",
              "      <td>0.157598</td>\n",
              "      <td>0.163070</td>\n",
              "      <td>0.966449</td>\n",
              "    </tr>\n",
              "    <tr>\n",
              "      <th>175</th>\n",
              "      <td>0.254990</td>\n",
              "      <td>0.271458</td>\n",
              "      <td>0.939335</td>\n",
              "    </tr>\n",
              "    <tr>\n",
              "      <th>165</th>\n",
              "      <td>0.055652</td>\n",
              "      <td>0.061587</td>\n",
              "      <td>0.903629</td>\n",
              "    </tr>\n",
              "    <tr>\n",
              "      <th>190</th>\n",
              "      <td>0.007481</td>\n",
              "      <td>0.012131</td>\n",
              "      <td>0.616696</td>\n",
              "    </tr>\n",
              "    <tr>\n",
              "      <th>180</th>\n",
              "      <td>0.003589</td>\n",
              "      <td>0.006177</td>\n",
              "      <td>0.580943</td>\n",
              "    </tr>\n",
              "    <tr>\n",
              "      <th>160</th>\n",
              "      <td>0.006404</td>\n",
              "      <td>0.012222</td>\n",
              "      <td>0.524013</td>\n",
              "    </tr>\n",
              "    <tr>\n",
              "      <th>125</th>\n",
              "      <td>0.003009</td>\n",
              "      <td>0.005976</td>\n",
              "      <td>0.503490</td>\n",
              "    </tr>\n",
              "    <tr>\n",
              "      <th>90</th>\n",
              "      <td>0.006349</td>\n",
              "      <td>0.012613</td>\n",
              "      <td>0.503398</td>\n",
              "    </tr>\n",
              "    <tr>\n",
              "      <th>200</th>\n",
              "      <td>0.008972</td>\n",
              "      <td>0.018471</td>\n",
              "      <td>0.485711</td>\n",
              "    </tr>\n",
              "    <tr>\n",
              "      <th>70</th>\n",
              "      <td>0.003037</td>\n",
              "      <td>0.006284</td>\n",
              "      <td>0.483256</td>\n",
              "    </tr>\n",
              "    <tr>\n",
              "      <th>220</th>\n",
              "      <td>0.002926</td>\n",
              "      <td>0.006538</td>\n",
              "      <td>0.447574</td>\n",
              "    </tr>\n",
              "  </tbody>\n",
              "</table>\n",
              "</div>"
            ],
            "text/plain": [
              "              Target Size Preference  ...  Packsize Preference\n",
              "SIZE_OF_PACK                          ...                     \n",
              "270                         0.031829  ...             1.269608\n",
              "380                         0.032160  ...             1.250827\n",
              "330                         0.061284  ...             1.202243\n",
              "110                         0.106280  ...             1.186492\n",
              "134                         0.119420  ...             1.181090\n",
              "210                         0.029124  ...             1.170020\n",
              "135                         0.014769  ...             1.142086\n",
              "250                         0.014355  ...             1.115959\n",
              "170                         0.080773  ...             1.005300\n",
              "150                         0.157598  ...             0.966449\n",
              "175                         0.254990  ...             0.939335\n",
              "165                         0.055652  ...             0.903629\n",
              "190                         0.007481  ...             0.616696\n",
              "180                         0.003589  ...             0.580943\n",
              "160                         0.006404  ...             0.524013\n",
              "125                         0.003009  ...             0.503490\n",
              "90                          0.006349  ...             0.503398\n",
              "200                         0.008972  ...             0.485711\n",
              "70                          0.003037  ...             0.483256\n",
              "220                         0.002926  ...             0.447574\n",
              "\n",
              "[20 rows x 3 columns]"
            ]
          },
          "metadata": {
            "tags": []
          },
          "execution_count": 66
        }
      ]
    },
    {
      "cell_type": "code",
      "metadata": {
        "colab": {
          "base_uri": "https://localhost:8080/",
          "height": 609
        },
        "id": "9tfcxCe7BTJE",
        "outputId": "6ff0ef41-380a-47bf-cca3-3e9b74315540"
      },
      "source": [
        "customer_transactions.loc[customer_transactions['SIZE_OF_PACK'] == 270,:]"
      ],
      "execution_count": null,
      "outputs": [
        {
          "output_type": "execute_result",
          "data": {
            "text/html": [
              "<div>\n",
              "<style scoped>\n",
              "    .dataframe tbody tr th:only-of-type {\n",
              "        vertical-align: middle;\n",
              "    }\n",
              "\n",
              "    .dataframe tbody tr th {\n",
              "        vertical-align: top;\n",
              "    }\n",
              "\n",
              "    .dataframe thead th {\n",
              "        text-align: right;\n",
              "    }\n",
              "</style>\n",
              "<table border=\"1\" class=\"dataframe\">\n",
              "  <thead>\n",
              "    <tr style=\"text-align: right;\">\n",
              "      <th></th>\n",
              "      <th>DATE</th>\n",
              "      <th>STORE_NBR</th>\n",
              "      <th>LYLTY_CARD_NBR</th>\n",
              "      <th>TXN_ID</th>\n",
              "      <th>PROD_NBR</th>\n",
              "      <th>PROD_NAME</th>\n",
              "      <th>PROD_QTY</th>\n",
              "      <th>TOT_SALES</th>\n",
              "      <th>SIZE_OF_PACK</th>\n",
              "      <th>BRAND</th>\n",
              "      <th>LIFESTAGE</th>\n",
              "      <th>PREMIUM_CUSTOMER</th>\n",
              "      <th>PRICE_PER_PKT</th>\n",
              "    </tr>\n",
              "  </thead>\n",
              "  <tbody>\n",
              "    <tr>\n",
              "      <th>34</th>\n",
              "      <td>2019-05-18</td>\n",
              "      <td>9</td>\n",
              "      <td>9208</td>\n",
              "      <td>8634</td>\n",
              "      <td>15</td>\n",
              "      <td>Twisties Cheese</td>\n",
              "      <td>2</td>\n",
              "      <td>9.2</td>\n",
              "      <td>270</td>\n",
              "      <td>Twisties</td>\n",
              "      <td>MIDAGE SINGLES/COUPLES</td>\n",
              "      <td>Budget</td>\n",
              "      <td>4.6</td>\n",
              "    </tr>\n",
              "    <tr>\n",
              "      <th>79</th>\n",
              "      <td>2018-08-24</td>\n",
              "      <td>39</td>\n",
              "      <td>39167</td>\n",
              "      <td>35639</td>\n",
              "      <td>113</td>\n",
              "      <td>Twisties Chicken</td>\n",
              "      <td>2</td>\n",
              "      <td>9.2</td>\n",
              "      <td>270</td>\n",
              "      <td>Twisties</td>\n",
              "      <td>MIDAGE SINGLES/COUPLES</td>\n",
              "      <td>Budget</td>\n",
              "      <td>4.6</td>\n",
              "    </tr>\n",
              "    <tr>\n",
              "      <th>125</th>\n",
              "      <td>2019-05-06</td>\n",
              "      <td>54</td>\n",
              "      <td>54305</td>\n",
              "      <td>48304</td>\n",
              "      <td>15</td>\n",
              "      <td>Twisties Cheese</td>\n",
              "      <td>2</td>\n",
              "      <td>9.2</td>\n",
              "      <td>270</td>\n",
              "      <td>Twisties</td>\n",
              "      <td>MIDAGE SINGLES/COUPLES</td>\n",
              "      <td>Budget</td>\n",
              "      <td>4.6</td>\n",
              "    </tr>\n",
              "    <tr>\n",
              "      <th>132</th>\n",
              "      <td>2019-05-20</td>\n",
              "      <td>55</td>\n",
              "      <td>55073</td>\n",
              "      <td>48887</td>\n",
              "      <td>113</td>\n",
              "      <td>Twisties Chicken</td>\n",
              "      <td>1</td>\n",
              "      <td>4.6</td>\n",
              "      <td>270</td>\n",
              "      <td>Twisties</td>\n",
              "      <td>MIDAGE SINGLES/COUPLES</td>\n",
              "      <td>Budget</td>\n",
              "      <td>4.6</td>\n",
              "    </tr>\n",
              "    <tr>\n",
              "      <th>209</th>\n",
              "      <td>2019-01-01</td>\n",
              "      <td>80</td>\n",
              "      <td>80182</td>\n",
              "      <td>78980</td>\n",
              "      <td>15</td>\n",
              "      <td>Twisties Cheese</td>\n",
              "      <td>2</td>\n",
              "      <td>9.2</td>\n",
              "      <td>270</td>\n",
              "      <td>Twisties</td>\n",
              "      <td>MIDAGE SINGLES/COUPLES</td>\n",
              "      <td>Budget</td>\n",
              "      <td>4.6</td>\n",
              "    </tr>\n",
              "    <tr>\n",
              "      <th>...</th>\n",
              "      <td>...</td>\n",
              "      <td>...</td>\n",
              "      <td>...</td>\n",
              "      <td>...</td>\n",
              "      <td>...</td>\n",
              "      <td>...</td>\n",
              "      <td>...</td>\n",
              "      <td>...</td>\n",
              "      <td>...</td>\n",
              "      <td>...</td>\n",
              "      <td>...</td>\n",
              "      <td>...</td>\n",
              "      <td>...</td>\n",
              "    </tr>\n",
              "    <tr>\n",
              "      <th>246488</th>\n",
              "      <td>2018-07-27</td>\n",
              "      <td>259</td>\n",
              "      <td>259034</td>\n",
              "      <td>257623</td>\n",
              "      <td>113</td>\n",
              "      <td>Twisties Chicken</td>\n",
              "      <td>2</td>\n",
              "      <td>9.2</td>\n",
              "      <td>270</td>\n",
              "      <td>Twisties</td>\n",
              "      <td>YOUNG SINGLES/COUPLES</td>\n",
              "      <td>Premium</td>\n",
              "      <td>4.6</td>\n",
              "    </tr>\n",
              "    <tr>\n",
              "      <th>246521</th>\n",
              "      <td>2018-10-13</td>\n",
              "      <td>261</td>\n",
              "      <td>261110</td>\n",
              "      <td>260183</td>\n",
              "      <td>15</td>\n",
              "      <td>Twisties Cheese</td>\n",
              "      <td>2</td>\n",
              "      <td>9.2</td>\n",
              "      <td>270</td>\n",
              "      <td>Twisties</td>\n",
              "      <td>YOUNG SINGLES/COUPLES</td>\n",
              "      <td>Premium</td>\n",
              "      <td>4.6</td>\n",
              "    </tr>\n",
              "    <tr>\n",
              "      <th>246633</th>\n",
              "      <td>2019-04-04</td>\n",
              "      <td>266</td>\n",
              "      <td>266095</td>\n",
              "      <td>263934</td>\n",
              "      <td>113</td>\n",
              "      <td>Twisties Chicken</td>\n",
              "      <td>1</td>\n",
              "      <td>4.6</td>\n",
              "      <td>270</td>\n",
              "      <td>Twisties</td>\n",
              "      <td>YOUNG SINGLES/COUPLES</td>\n",
              "      <td>Premium</td>\n",
              "      <td>4.6</td>\n",
              "    </tr>\n",
              "    <tr>\n",
              "      <th>246655</th>\n",
              "      <td>2019-03-29</td>\n",
              "      <td>266</td>\n",
              "      <td>266420</td>\n",
              "      <td>264256</td>\n",
              "      <td>15</td>\n",
              "      <td>Twisties Cheese</td>\n",
              "      <td>2</td>\n",
              "      <td>9.2</td>\n",
              "      <td>270</td>\n",
              "      <td>Twisties</td>\n",
              "      <td>YOUNG SINGLES/COUPLES</td>\n",
              "      <td>Premium</td>\n",
              "      <td>4.6</td>\n",
              "    </tr>\n",
              "    <tr>\n",
              "      <th>246691</th>\n",
              "      <td>2018-07-27</td>\n",
              "      <td>270</td>\n",
              "      <td>270002</td>\n",
              "      <td>266605</td>\n",
              "      <td>113</td>\n",
              "      <td>Twisties Chicken</td>\n",
              "      <td>2</td>\n",
              "      <td>9.2</td>\n",
              "      <td>270</td>\n",
              "      <td>Twisties</td>\n",
              "      <td>YOUNG SINGLES/COUPLES</td>\n",
              "      <td>Premium</td>\n",
              "      <td>4.6</td>\n",
              "    </tr>\n",
              "  </tbody>\n",
              "</table>\n",
              "<p>6285 rows × 13 columns</p>\n",
              "</div>"
            ],
            "text/plain": [
              "             DATE  STORE_NBR  ...  PREMIUM_CUSTOMER  PRICE_PER_PKT\n",
              "34     2019-05-18          9  ...            Budget            4.6\n",
              "79     2018-08-24         39  ...            Budget            4.6\n",
              "125    2019-05-06         54  ...            Budget            4.6\n",
              "132    2019-05-20         55  ...            Budget            4.6\n",
              "209    2019-01-01         80  ...            Budget            4.6\n",
              "...           ...        ...  ...               ...            ...\n",
              "246488 2018-07-27        259  ...           Premium            4.6\n",
              "246521 2018-10-13        261  ...           Premium            4.6\n",
              "246633 2019-04-04        266  ...           Premium            4.6\n",
              "246655 2019-03-29        266  ...           Premium            4.6\n",
              "246691 2018-07-27        270  ...           Premium            4.6\n",
              "\n",
              "[6285 rows x 13 columns]"
            ]
          },
          "metadata": {
            "tags": []
          },
          "execution_count": 67
        }
      ]
    },
    {
      "cell_type": "code",
      "metadata": {
        "colab": {
          "base_uri": "https://localhost:8080/"
        },
        "id": "WCcWzF4DDgqC",
        "outputId": "e58ec3dc-2816-4d16-ea1d-daae25759283"
      },
      "source": [
        "customer_transactions.loc[customer_transactions['SIZE_OF_PACK'] == 270, 'BRAND'].unique()"
      ],
      "execution_count": null,
      "outputs": [
        {
          "output_type": "execute_result",
          "data": {
            "text/plain": [
              "array(['Twisties'], dtype=object)"
            ]
          },
          "metadata": {
            "tags": []
          },
          "execution_count": 68
        }
      ]
    },
    {
      "cell_type": "code",
      "metadata": {
        "id": "XtQp_TkLDxiV"
      },
      "source": [
        ""
      ],
      "execution_count": null,
      "outputs": []
    },
    {
      "cell_type": "markdown",
      "metadata": {
        "id": "_6rNsH-S50gP"
      },
      "source": [
        "**SUMMARY**\n",
        "\n",
        "\n",
        "*   Budget older families, mainstream young singles/couples and premium older singles/couples contribute to a majority of sales\n",
        "\n",
        "* Mainstream young singles/couples are the largest group with the highest number of customers while Premium new families are the smallest group with lowest number of customers\n",
        "\n",
        "*   On average,older families and younger families purchase more chips\n",
        "Mainstream midage and young singles/couples are willing to pay more per packet of chips \n",
        "\n",
        "* The group that should be targeted to boost even more sales is the young singles/couples who prefer Tyrells brand and have affinity to the 270g packet size of chips\n",
        "\n",
        "* Twisties is the only brand that produces 270g packet size of chips\n",
        "\n",
        "\n",
        "\n"
      ]
    }
  ]
}